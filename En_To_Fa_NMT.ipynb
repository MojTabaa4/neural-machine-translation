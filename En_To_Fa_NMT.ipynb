{
 "nbformat": 4,
 "nbformat_minor": 0,
 "metadata": {
  "colab": {
   "name": "persian_NMT.ipynb",
   "provenance": [],
   "collapsed_sections": []
  },
  "kernelspec": {
   "name": "python3",
   "display_name": "Python 3"
  },
  "language_info": {
   "name": "python"
  },
  "accelerator": "GPU",
  "gpuClass": "standard"
 },
 "cells": [
  {
   "cell_type": "code",
   "execution_count": null,
   "metadata": {
    "id": "f6x9jQonHH5A",
    "pycharm": {
     "name": "#%%\n"
    }
   },
   "outputs": [],
   "source": [
    "# !wget -O en-fa.tmx.gz https://opus.nlpl.eu/download.php?f=TEP/v1/tmx/en-fa.tmx.gz\n",
    "!wget -O en-fa.txt.zip https://opus.nlpl.eu/download.php?f=TEP/v1/moses/en-fa.txt.zip\n",
    "# !gzip -dk en-fa.tmx.gz\n",
    "!unzip en-fa.txt.zip"
   ]
  },
  {
   "cell_type": "code",
   "source": [
    "!cat TEP.en-fa.en | grep -a \"?\""
   ],
   "metadata": {
    "id": "dASVTdaWFV4k",
    "pycharm": {
     "name": "#%%\n"
    }
   },
   "execution_count": null,
   "outputs": []
  },
  {
   "cell_type": "code",
   "source": [
    "!pip install \"tensorflow-text==2.8.*\""
   ],
   "metadata": {
    "id": "5pf4kq7E9IcL",
    "pycharm": {
     "name": "#%%\n"
    }
   },
   "execution_count": null,
   "outputs": []
  },
  {
   "cell_type": "code",
   "source": [
    "import pathlib\n",
    "import re\n",
    "import string\n",
    "import typing\n",
    "from typing import Any, Tuple\n",
    "\n",
    "import matplotlib.pyplot as plt\n",
    "import numpy as np\n",
    "import tensorflow as tf\n",
    "import tensorflow_text as tf_text\n",
    "from tensorflow import keras"
   ],
   "metadata": {
    "id": "ucMPfnA-otgW",
    "pycharm": {
     "name": "#%%\n"
    }
   },
   "execution_count": null,
   "outputs": []
  },
  {
   "cell_type": "code",
   "source": [
    "text_file = keras.utils.get_file(\n",
    "    fname=\"fa-eng.zip\",\n",
    "    origin=\"https://opus.nlpl.eu/download.php?f=TEP/v1/moses/en-fa.txt.zip\",\n",
    "    extract=True,\n",
    ")\n",
    "\n",
    "text_fa = pathlib.Path(text_file).parent  / \"TEP.en-fa.fa\"\n",
    "text_en = pathlib.Path(text_file).parent  / \"TEP.en-fa.en\""
   ],
   "metadata": {
    "id": "6Q9WEz_5pcaq",
    "colab": {
     "base_uri": "https://localhost:8080/"
    },
    "outputId": "9d492523-6cd9-45c5-fc74-957e38339a84",
    "pycharm": {
     "name": "#%%\n"
    }
   },
   "execution_count": null,
   "outputs": [
    {
     "output_type": "stream",
     "name": "stdout",
     "text": [
      "Downloading data from https://opus.nlpl.eu/download.php?f=TEP/v1/moses/en-fa.txt.zip\n",
      "16359424/16353318 [==============================] - 1s 0us/step\n",
      "16367616/16353318 [==============================] - 1s 0us/step\n"
     ]
    }
   ]
  },
  {
   "cell_type": "code",
   "source": [
    "with open(text_en) as f:\n",
    "  lines_en = f.read().split(\"\\n\")[:-1]\n",
    "\n",
    "with open(text_fa) as f:\n",
    "  lines_fa = f.read().split(\"\\n\")[:-1]"
   ],
   "metadata": {
    "id": "Vt1YQnJKrikT",
    "pycharm": {
     "name": "#%%\n"
    }
   },
   "execution_count": null,
   "outputs": []
  },
  {
   "cell_type": "code",
   "source": [
    "index = 10\n",
    "print(lines_en[index])\n",
    "print(lines_fa[index])\n",
    "\n",
    "assert len(lines_en) == len(lines_fa)\n",
    "len(lines_en)"
   ],
   "metadata": {
    "colab": {
     "base_uri": "https://localhost:8080/"
    },
    "id": "24BuWvG6ulgU",
    "outputId": "79905fe8-a460-4772-ddff-5ac1cabb1df3",
    "pycharm": {
     "name": "#%%\n"
    }
   },
   "execution_count": null,
   "outputs": [
    {
     "output_type": "stream",
     "name": "stdout",
     "text": [
      "its the last feed weve got .\n",
      "اين آخرين علوفه اي بود که ما داشتيم .\n"
     ]
    },
    {
     "output_type": "execute_result",
     "data": {
      "text/plain": [
       "612086"
      ]
     },
     "metadata": {},
     "execution_count": 19
    }
   ]
  },
  {
   "cell_type": "code",
   "source": [
    "inp = lines_en\n",
    "targ = lines_fa\n",
    "\n",
    "limit = 200000\n",
    "inp = inp[:limit]\n",
    "targ = targ[:limit]\n",
    "\n",
    "BUFFER_SIZE = len(inp)\n",
    "BATCH_SIZE = 256\n",
    "\n",
    "dataset = tf.data.Dataset.from_tensor_slices((inp, targ)).shuffle(BUFFER_SIZE)\n",
    "dataset = dataset.batch(BATCH_SIZE)"
   ],
   "metadata": {
    "id": "8XcRIIqYuw13",
    "pycharm": {
     "name": "#%%\n"
    }
   },
   "execution_count": null,
   "outputs": []
  },
  {
   "cell_type": "code",
   "source": [
    "for example_input_batch, example_target_batch in dataset.take(1):\n",
    "  print(example_input_batch[1].numpy())\n",
    "  print()\n",
    "  print(example_target_batch[1].numpy().decode())\n",
    "  print(example_target_batch[1].numpy())\n",
    "\n",
    "  break"
   ],
   "metadata": {
    "id": "0CGQ6haRvVr9",
    "colab": {
     "base_uri": "https://localhost:8080/"
    },
    "outputId": "fad4bf32-a4bb-44e3-e8ad-6fa0f787b15e",
    "pycharm": {
     "name": "#%%\n"
    }
   },
   "execution_count": null,
   "outputs": [
    {
     "output_type": "stream",
     "name": "stdout",
     "text": [
      "b'didnt you hear .'\n",
      "\n",
      "نشنيدي چي گفتن .\n",
      "b'\\xd9\\x86\\xd8\\xb4\\xd9\\x86\\xd9\\x8a\\xd8\\xaf\\xd9\\x8a \\xda\\x86\\xd9\\x8a \\xda\\xaf\\xd9\\x81\\xd8\\xaa\\xd9\\x86 .'\n"
     ]
    }
   ]
  },
  {
   "cell_type": "code",
   "source": [
    "def standardize_en(text):\n",
    "  # Split accecented characters.\n",
    "  text = tf_text.normalize_utf8(text, 'NFKD')\n",
    "  text = tf.strings.lower(text)\n",
    "  # Keep space, a to z, and select punctuation.\n",
    "  text = tf.strings.regex_replace(text, '[^ a-z.?!,¿]', '')\n",
    "  # Add spaces around punctuation.\n",
    "  text = tf.strings.regex_replace(text, '[.?!,¿]', r' \\0 ')\n",
    "  # Strip whitespace.\n",
    "  text = tf.strings.strip(text)\n",
    "\n",
    "  text = tf.strings.join(['[START]', text, '[END]'], separator=' ')\n",
    "  \n",
    "  return text\n",
    "\n",
    "\n",
    "def standardize_fa(text):\n",
    "  strip_chars = re.sub('[\\[\\].?!,¿]', '', string.punctuation)\n",
    "\n",
    "  text = tf.strings.regex_replace(text, f\"[{re.escape(strip_chars)}]\", '')\n",
    "\n",
    "  text = tf.strings.regex_replace(text, '[.?!,¿،]', r' \\0 ')\n",
    "\n",
    "  text = tf.strings.strip(text)\n",
    "\n",
    "  text = tf.strings.join(['[START]', text, '[END]'], separator=' ')\n",
    "\n",
    "  return text"
   ],
   "metadata": {
    "id": "8U1wELmlvVpi",
    "pycharm": {
     "name": "#%%\n"
    }
   },
   "execution_count": null,
   "outputs": []
  },
  {
   "cell_type": "code",
   "source": [
    "example_text = tf.constant(\"what is it? the captain has escaped.\")\n",
    "print(example_text.numpy().decode())\n",
    "print(standardize_en(example_text).numpy().decode())"
   ],
   "metadata": {
    "colab": {
     "base_uri": "https://localhost:8080/"
    },
    "id": "ZyluoMARGhgR",
    "outputId": "f9e41797-9086-4039-bd98-f6386eda9291",
    "pycharm": {
     "name": "#%%\n"
    }
   },
   "execution_count": null,
   "outputs": [
    {
     "output_type": "stream",
     "name": "stdout",
     "text": [
      "what is it? the captain has escaped.\n",
      "[START] what is it ?  the captain has escaped . [END]\n"
     ]
    }
   ]
  },
  {
   "cell_type": "code",
   "source": [
    "strip_chars = re.sub('[\\[\\].?!,¿]', '', string.punctuation)\n",
    "strip_chars"
   ],
   "metadata": {
    "colab": {
     "base_uri": "https://localhost:8080/",
     "height": 36
    },
    "id": "Y60AKkTrvVnH",
    "outputId": "b8ee1ca4-3cff-400e-bd53-81550d0d8ba9",
    "pycharm": {
     "name": "#%%\n"
    }
   },
   "execution_count": null,
   "outputs": [
    {
     "output_type": "execute_result",
     "data": {
      "text/plain": [
       "'\"#$%&\\'()*+-/:;<=>@\\\\^_`{|}~'"
      ],
      "application/vnd.google.colaboratory.intrinsic+json": {
       "type": "string"
      }
     },
     "metadata": {},
     "execution_count": 24
    }
   ]
  },
  {
   "cell_type": "code",
   "source": [
    "re.escape(strip_chars)"
   ],
   "metadata": {
    "colab": {
     "base_uri": "https://localhost:8080/",
     "height": 36
    },
    "id": "uArqZ6-auwzP",
    "outputId": "64e1eb63-e1eb-44e7-b574-3581fe55c5a4",
    "pycharm": {
     "name": "#%%\n"
    }
   },
   "execution_count": null,
   "outputs": [
    {
     "output_type": "execute_result",
     "data": {
      "text/plain": [
       "'\"\\\\#\\\\$%\\\\&\\'\\\\(\\\\)\\\\*\\\\+\\\\-/:;<=>@\\\\\\\\\\\\^_`\\\\{\\\\|\\\\}\\\\~'"
      ],
      "application/vnd.google.colaboratory.intrinsic+json": {
       "type": "string"
      }
     },
     "metadata": {},
     "execution_count": 25
    }
   ]
  },
  {
   "cell_type": "code",
   "source": [
    "max_vocab_size = 5000\n",
    "\n",
    "en_vectorization = tf.keras.layers.TextVectorization(\n",
    "    standardize=standardize_en,\n",
    "    max_tokens=max_vocab_size\n",
    ")\n",
    "\n",
    "fa_vectorization = tf.keras.layers.TextVectorization(\n",
    "    max_tokens=max_vocab_size,\n",
    "    standardize=standardize_fa\n",
    ")"
   ],
   "metadata": {
    "id": "cvq29UUguwxR",
    "pycharm": {
     "name": "#%%\n"
    }
   },
   "execution_count": null,
   "outputs": []
  },
  {
   "cell_type": "code",
   "source": [
    "en_vectorization.adapt(inp)\n",
    "en_vectorization.get_vocabulary()[:10]"
   ],
   "metadata": {
    "id": "30v0SbYIuwuw",
    "colab": {
     "base_uri": "https://localhost:8080/"
    },
    "outputId": "e1ff5c2d-c24b-4da3-f0d0-020d025b532a",
    "pycharm": {
     "name": "#%%\n"
    }
   },
   "execution_count": null,
   "outputs": [
    {
     "output_type": "execute_result",
     "data": {
      "text/plain": [
       "['', '[UNK]', '.', '[START]', '[END]', ',', 'you', 'the', 'i', 'to']"
      ]
     },
     "metadata": {},
     "execution_count": 27
    }
   ]
  },
  {
   "cell_type": "code",
   "source": [
    "fa_vectorization.adapt(targ)\n",
    "fa_vectorization.get_vocabulary()[:10]"
   ],
   "metadata": {
    "id": "eYtO4JBmuwr2",
    "colab": {
     "base_uri": "https://localhost:8080/"
    },
    "outputId": "7287dd27-1cee-4106-d6b3-6036a7fae25a",
    "pycharm": {
     "name": "#%%\n"
    }
   },
   "execution_count": null,
   "outputs": [
    {
     "output_type": "execute_result",
     "data": {
      "text/plain": [
       "['', '[UNK]', '.', '[START]', '[END]', '،', 'من', 'را', 'به', 'تو']"
      ]
     },
     "metadata": {},
     "execution_count": 28
    }
   ]
  },
  {
   "cell_type": "code",
   "source": [
    "en_example_tokens = en_vectorization(example_input_batch)\n",
    "en_example_tokens[:3]"
   ],
   "metadata": {
    "colab": {
     "base_uri": "https://localhost:8080/"
    },
    "id": "GJs4rPntND5C",
    "outputId": "df2fd373-8f60-4664-ab23-e7b32cfb2287",
    "pycharm": {
     "name": "#%%\n"
    }
   },
   "execution_count": null,
   "outputs": [
    {
     "output_type": "execute_result",
     "data": {
      "text/plain": [
       "<tf.Tensor: shape=(3, 22), dtype=int64, numpy=\n",
       "array([[   3, 3146,    5,  432, 3146,    5,  167,    5,  102,  122, 2158,\n",
       "         215,   91,   43,   73,    2,    4,    0,    0,    0,    0,    0],\n",
       "       [   3,  114,    6,  220,    2,    4,    0,    0,    0,    0,    0,\n",
       "           0,    0,    0,    0,    0,    0,    0,    0,    0,    0,    0],\n",
       "       [   3,   29,    6,  815,  103,    8,   32,   42,   11,    2,    2,\n",
       "           4,    0,    0,    0,    0,    0,    0,    0,    0,    0,    0]])>"
      ]
     },
     "metadata": {},
     "execution_count": 29
    }
   ]
  },
  {
   "cell_type": "code",
   "source": [
    "fa_example_tokens = fa_vectorization(example_target_batch)\n",
    "fa_example_tokens[:3]"
   ],
   "metadata": {
    "colab": {
     "base_uri": "https://localhost:8080/"
    },
    "id": "niSH8-Ra4EPB",
    "outputId": "3214d5c2-7a46-477e-b0a9-0269f2b5c4d8",
    "pycharm": {
     "name": "#%%\n"
    }
   },
   "execution_count": null,
   "outputs": [
    {
     "output_type": "execute_result",
     "data": {
      "text/plain": [
       "<tf.Tensor: shape=(3, 23), dtype=int64, numpy=\n",
       "array([[   3,  405,    1,    5,  207,    1,    8,  159,   30,  660,    2,\n",
       "           4,    0,    0,    0,    0,    0,    0,    0,    0,    0,    0,\n",
       "           0],\n",
       "       [   3, 3993,   26,  873,    2,    4,    0,    0,    0,    0,    0,\n",
       "           0,    0,    0,    0,    0,    0,    0,    0,    0,    0,    0,\n",
       "           0],\n",
       "       [   3,    1,  437,    2,   65,    6,   34,   43, 1285,    2,    4,\n",
       "           0,    0,    0,    0,    0,    0,    0,    0,    0,    0,    0,\n",
       "           0]])>"
      ]
     },
     "metadata": {},
     "execution_count": 30
    }
   ]
  },
  {
   "cell_type": "code",
   "source": [
    "len(fa_vectorization.get_vocabulary())"
   ],
   "metadata": {
    "colab": {
     "base_uri": "https://localhost:8080/"
    },
    "id": "bt1y_XkzND2r",
    "outputId": "08dbc990-b5a6-40e4-e874-c1bda92c02c3",
    "pycharm": {
     "name": "#%%\n"
    }
   },
   "execution_count": null,
   "outputs": [
    {
     "output_type": "execute_result",
     "data": {
      "text/plain": [
       "5000"
      ]
     },
     "metadata": {},
     "execution_count": 31
    }
   ]
  },
  {
   "cell_type": "code",
   "source": [
    "input_vocab = np.array(en_vectorization.get_vocabulary())\n",
    "tokens = input_vocab[en_example_tokens[2].numpy()]\n",
    "' '.join(tokens)"
   ],
   "metadata": {
    "colab": {
     "base_uri": "https://localhost:8080/",
     "height": 36
    },
    "id": "m46n9HeVNDyK",
    "outputId": "265d8ddb-0c51-403b-d6a7-058488a9fc0d",
    "pycharm": {
     "name": "#%%\n"
    }
   },
   "execution_count": null,
   "outputs": [
    {
     "output_type": "execute_result",
     "data": {
      "text/plain": [
       "'[START] are you kidding then i dont get it . . [END]          '"
      ],
      "application/vnd.google.colaboratory.intrinsic+json": {
       "type": "string"
      }
     },
     "metadata": {},
     "execution_count": 32
    }
   ]
  },
  {
   "cell_type": "code",
   "source": [
    "input_vocab = np.array(fa_vectorization.get_vocabulary())\n",
    "tokens = input_vocab[fa_example_tokens[2].numpy()]\n",
    "print(tokens)\n",
    "' '.join(tokens)"
   ],
   "metadata": {
    "id": "ti9anutoNDtu",
    "colab": {
     "base_uri": "https://localhost:8080/",
     "height": 71
    },
    "outputId": "8b699431-9e83-48e8-e985-8b76be04f966",
    "pycharm": {
     "name": "#%%\n"
    }
   },
   "execution_count": null,
   "outputs": [
    {
     "output_type": "stream",
     "name": "stdout",
     "text": [
      "['[START]' '[UNK]' 'گرفته' '.' 'پس' 'من' 'ديگه' 'چيزي' 'نميفهمم' '.'\n",
      " '[END]' '' '' '' '' '' '' '' '' '' '' '' '']\n"
     ]
    },
    {
     "output_type": "execute_result",
     "data": {
      "text/plain": [
       "'[START] [UNK] گرفته . پس من ديگه چيزي نميفهمم . [END]            '"
      ],
      "application/vnd.google.colaboratory.intrinsic+json": {
       "type": "string"
      }
     },
     "metadata": {},
     "execution_count": 33
    }
   ]
  },
  {
   "cell_type": "code",
   "source": [
    "embedding_dim = 256\n",
    "units = 1024"
   ],
   "metadata": {
    "id": "UUMrqYG_AyHi",
    "pycharm": {
     "name": "#%%\n"
    }
   },
   "execution_count": null,
   "outputs": []
  },
  {
   "cell_type": "code",
   "source": [
    "class Encoder(tf.keras.layers.Layer):\n",
    "  def __init__(self, input_vocab_size, embedding_dim, enc_units):\n",
    "    super(Encoder, self).__init__()\n",
    "    # cell state size\n",
    "    self.enc_units = enc_units\n",
    "    self.input_vocab_size = input_vocab_size\n",
    "\n",
    "    # The embedding layer converts tokens to vectors\n",
    "    self.embedding = tf.keras.layers.Embedding(self.input_vocab_size,\n",
    "                                               embedding_dim)\n",
    "\n",
    "    # The GRU RNN layer processes those vectors sequentially.\n",
    "    self.gru = tf.keras.layers.GRU(self.enc_units,\n",
    "                                   # Return the sequence and state\n",
    "                                   return_sequences=True,\n",
    "                                   return_state=True,\n",
    "                                   recurrent_initializer='glorot_uniform')\n",
    "\n",
    "  def call(self, tokens, state=None):\n",
    "    # 2. The embedding layer looks up the embedding for each token.\n",
    "    vectors = self.embedding(tokens)\n",
    "\n",
    "    # 3. The GRU processes the embedding sequence.\n",
    "    #    output shape: (batch, s, enc_units)\n",
    "    #    state shape: (batch, enc_units)\n",
    "    output, state = self.gru(vectors, initial_state=state)\n",
    "\n",
    "    # 4. Returns the new sequence and its state.\n",
    "    # output = The processed sequence. This will be passed to the attention head\n",
    "    # state = The internal state. This will be used to initialize the decoder\n",
    "    return output, state"
   ],
   "metadata": {
    "id": "21VkqDhdNDmY",
    "pycharm": {
     "name": "#%%\n"
    }
   },
   "execution_count": null,
   "outputs": []
  },
  {
   "cell_type": "code",
   "source": [
    "# Convert the input text to tokens.\n",
    "example_tokens = en_vectorization(example_input_batch)\n",
    "\n",
    "# Encode the input sequence.\n",
    "encoder = Encoder(en_vectorization.vocabulary_size(),\n",
    "                  embedding_dim, units)\n",
    "example_enc_output, example_enc_state = encoder(example_tokens)\n",
    "\n",
    "print(f'Input batch, shape (batch): {example_input_batch.shape}')\n",
    "print(f'Input batch tokens, shape (batch, s): {example_tokens.shape}')\n",
    "print(f'Encoder output, shape (batch, s, units): {example_enc_output.shape}')\n",
    "print(f'Encoder state, shape (batch, units): {example_enc_state.shape}')"
   ],
   "metadata": {
    "colab": {
     "base_uri": "https://localhost:8080/"
    },
    "id": "9BWsZ5az5fuY",
    "outputId": "9f704c6b-e463-42b3-9465-c53e2bc0031e",
    "pycharm": {
     "name": "#%%\n"
    }
   },
   "execution_count": null,
   "outputs": [
    {
     "output_type": "stream",
     "name": "stdout",
     "text": [
      "Input batch, shape (batch): (256,)\n",
      "Input batch tokens, shape (batch, s): (256, 22)\n",
      "Encoder output, shape (batch, s, units): (256, 22, 1024)\n",
      "Encoder state, shape (batch, units): (256, 1024)\n"
     ]
    }
   ]
  },
  {
   "cell_type": "code",
   "source": [
    "example_tokens"
   ],
   "metadata": {
    "colab": {
     "base_uri": "https://localhost:8080/"
    },
    "id": "_oqyKm9A5fpe",
    "outputId": "746282da-ad14-47ce-dda5-6edc7c3f7fbd",
    "pycharm": {
     "name": "#%%\n"
    }
   },
   "execution_count": null,
   "outputs": [
    {
     "output_type": "execute_result",
     "data": {
      "text/plain": [
       "<tf.Tensor: shape=(256, 22), dtype=int64, numpy=\n",
       "array([[   3, 3146,    5, ...,    0,    0,    0],\n",
       "       [   3,  114,    6, ...,    0,    0,    0],\n",
       "       [   3,   29,    6, ...,    0,    0,    0],\n",
       "       ...,\n",
       "       [   3,  134,   10, ...,    0,    0,    0],\n",
       "       [   3,   10,  597, ...,    0,    0,    0],\n",
       "       [   3,   75,    5, ...,    0,    0,    0]])>"
      ]
     },
     "metadata": {},
     "execution_count": 38
    }
   ]
  },
  {
   "cell_type": "code",
   "source": [
    "\n",
    "class BahdanauAttention(tf.keras.layers.Layer):\n",
    "  def __init__(self, units):\n",
    "    super().__init__()\n",
    "    self.W1 = tf.keras.layers.Dense(units, use_bias=False)\n",
    "    self.W2 = tf.keras.layers.Dense(units, use_bias=False)\n",
    "    self.attention = tf.keras.layers.AdditiveAttention()\n",
    "\n",
    "  def call(self, query, value, mask):\n",
    "    w1_query = self.W1(query)\n",
    "    w2_key = self.W2(value)\n",
    "\n",
    "    query_mask = tf.ones(tf.shape(query)[:-1], dtype=bool)\n",
    "    value_mask = mask\n",
    "\n",
    "    context_vector, attention_weights = self.attention(\n",
    "        inputs = [w1_query, value, w2_key],\n",
    "        mask=[query_mask, value_mask],\n",
    "        return_attention_scores = True,\n",
    "    )\n",
    "\n",
    "    return context_vector, attention_weights\n"
   ],
   "metadata": {
    "id": "BHtZHFg25fm7",
    "pycharm": {
     "name": "#%%\n"
    }
   },
   "execution_count": null,
   "outputs": []
  },
  {
   "cell_type": "code",
   "execution_count": null,
   "outputs": [],
   "source": [
    "  attention_layer = BahdanauAttention(units)"
   ],
   "metadata": {
    "collapsed": false,
    "pycharm": {
     "name": "#%%\n"
    }
   }
  },
  {
   "cell_type": "code",
   "source": [
    "# Later, the decoder will generate this attention query\n",
    "example_attention_query = tf.random.normal(shape=[len(example_tokens), 2, 10])\n",
    "\n",
    "# Attend to the encoded tokens\n",
    "\n",
    "context_vector, attention_weights = attention_layer(\n",
    "    query=example_attention_query,\n",
    "    value=example_enc_output,\n",
    "    mask=(example_tokens != 0)\n",
    ")\n",
    "\n",
    "print(f'Attention result shape: (batch_size, query_seq_length, units):           {context_vector.shape}')\n",
    "print(f'Attention weights shape: (batch_size, query_seq_length, value_seq_length): {attention_weights.shape}')"
   ],
   "metadata": {
    "colab": {
     "base_uri": "https://localhost:8080/"
    },
    "id": "v4EtJmESKS5I",
    "outputId": "990078d8-8b51-41f8-abe0-746a5654ff3c",
    "pycharm": {
     "name": "#%%\n"
    }
   },
   "execution_count": null,
   "outputs": [
    {
     "output_type": "stream",
     "name": "stdout",
     "text": [
      "Attention result shape: (batch_size, query_seq_length, units):           (256, 2, 1024)\n",
      "Attention weights shape: (batch_size, query_seq_length, value_seq_length): (256, 2, 22)\n"
     ]
    }
   ]
  },
  {
   "cell_type": "code",
   "source": [
    "plt.subplot(1, 2, 1)\n",
    "plt.pcolormesh(attention_weights[:, 0, :])\n",
    "plt.title('Attention weights')\n",
    "\n",
    "plt.subplot(1, 2, 2)\n",
    "plt.pcolormesh(example_tokens != 0)\n",
    "plt.title('Mask')\n"
   ],
   "metadata": {
    "colab": {
     "base_uri": "https://localhost:8080/",
     "height": 298
    },
    "id": "bU2KEUCKKS3J",
    "outputId": "2e8141ca-043d-45f9-a048-9fe781fa7753",
    "pycharm": {
     "name": "#%%\n"
    }
   },
   "execution_count": null,
   "outputs": [
    {
     "output_type": "execute_result",
     "data": {
      "text/plain": [
       "Text(0.5, 1.0, 'Mask')"
      ]
     },
     "metadata": {},
     "execution_count": 43
    },
    {
     "output_type": "display_data",
     "data": {
      "text/plain": [
       "<Figure size 432x288 with 2 Axes>"
      ],
      "image/png": "[encoded data removed]"
     },
     "metadata": {
      "needs_background": "light"
     }
    }
   ]
  },
  {
   "cell_type": "code",
   "source": [
    "class Decoder(tf.keras.layers.Layer):\n",
    "  def __init__(self, output_vocab_size, embedding_dim, dec_units):\n",
    "    super(Decoder, self).__init__()\n",
    "    self.dec_units = dec_units\n",
    "    self.output_vocab_size = output_vocab_size\n",
    "    self.embedding_dim = embedding_dim\n",
    "\n",
    "    # For Step 1. The embedding layer convets token IDs to vectors\n",
    "    self.embedding = tf.keras.layers.Embedding(self.output_vocab_size,\n",
    "                                               embedding_dim)\n",
    "\n",
    "    # For Step 2. The RNN keeps track of what's been generated so far.\n",
    "    self.gru = tf.keras.layers.GRU(self.dec_units,\n",
    "                                   return_sequences=True,\n",
    "                                   return_state=True,\n",
    "                                   recurrent_initializer='glorot_uniform')\n",
    "\n",
    "    # For step 3. The RNN output will be the query for the attention layer.\n",
    "    self.attention = BahdanauAttention(self.dec_units)\n",
    "\n",
    "    # For step 4. Eqn. (3): converting `ct` to `at`\n",
    "    self.Wc = tf.keras.layers.Dense(dec_units, activation=tf.math.tanh,\n",
    "                                    use_bias=False)\n",
    "\n",
    "    # For step 5. This fully connected layer produces the logits for each\n",
    "    # output token.\n",
    "    self.fc = tf.keras.layers.Dense(self.output_vocab_size)"
   ],
   "metadata": {
    "id": "9Lr2CXisKSsK",
    "pycharm": {
     "name": "#%%\n"
    }
   },
   "execution_count": null,
   "outputs": []
  },
  {
   "cell_type": "code",
   "source": [
    "class DecoderInput(typing.NamedTuple):\n",
    "  new_tokens: Any\n",
    "  enc_output: Any\n",
    "  mask: Any\n",
    "\n",
    "class DecoderOutput(typing.NamedTuple):\n",
    "  logits: Any\n",
    "  attention_weights: Any"
   ],
   "metadata": {
    "id": "KyAdVqKuKSqW",
    "pycharm": {
     "name": "#%%\n"
    }
   },
   "execution_count": null,
   "outputs": []
  },
  {
   "cell_type": "code",
   "source": [
    "def call(self,\n",
    "         inputs: DecoderInput,\n",
    "         state=None) -> Tuple[DecoderOutput, tf.Tensor]:\n",
    "\n",
    "  # Step 1. Lookup the embeddings\n",
    "  vectors = self.embedding(inputs.new_tokens)\n",
    "\n",
    "  # Step 2. Process one step with the RNN\n",
    "  rnn_output, state = self.gru(vectors, initial_state=state)\n",
    "\n",
    "  # Step 3. Use the RNN output as the query for the attention over the\n",
    "  # encoder output.\n",
    "  context_vector, attention_weights = self.attention(\n",
    "      query=rnn_output, value=inputs.enc_output, mask=inputs.mask\n",
    "  )\n",
    "  \n",
    "  # Step 4. Eqn. (3): Join the context_vector and rnn_output\n",
    "  #     [ct; ht] shape: (batch t, value_units + query_units)\n",
    "  context_and_rnn_output = tf.concat([context_vector, rnn_output], axis=-1)\n",
    "\n",
    "  # Step 4. Eqn. (3): `at = tanh(Wc@[ct; ht])`\n",
    "  attention_vector = self.Wc(context_and_rnn_output)\n",
    "\n",
    "  # Step 5. Generate logit predictions:\n",
    "  logits = self.fc(attention_vector)\n",
    "\n",
    "  return DecoderOutput(logits, attention_weights), state"
   ],
   "metadata": {
    "id": "NBbrnBsaKSoX",
    "pycharm": {
     "name": "#%%\n"
    }
   },
   "execution_count": null,
   "outputs": []
  },
  {
   "cell_type": "code",
   "source": [
    "Decoder.call = call"
   ],
   "metadata": {
    "id": "GN8TlO5YKSmI",
    "pycharm": {
     "name": "#%%\n"
    }
   },
   "execution_count": null,
   "outputs": []
  },
  {
   "cell_type": "code",
   "source": [
    "decoder = Decoder(fa_vectorization.vocabulary_size(),\n",
    "                  embedding_dim, units)"
   ],
   "metadata": {
    "id": "To7dyd2gKSjn",
    "pycharm": {
     "name": "#%%\n"
    }
   },
   "execution_count": null,
   "outputs": []
  },
  {
   "cell_type": "code",
   "source": [
    "# Convert the target sequence, and collect the \"[START]\" tokens\n",
    "example_output_tokens = fa_vectorization(example_target_batch)\n",
    "\n",
    "start_index = fa_vectorization.get_vocabulary().index('[START]')\n",
    "first_token = tf.constant([[start_index]] * example_output_tokens.shape[0])"
   ],
   "metadata": {
    "id": "JxPc4u9rSQBx",
    "pycharm": {
     "name": "#%%\n"
    }
   },
   "execution_count": null,
   "outputs": []
  },
  {
   "cell_type": "code",
   "source": [
    "# Run the decoder\n",
    "dec_result, dec_state = decoder(\n",
    "    inputs = DecoderInput(new_tokens=first_token,\n",
    "                          enc_output=example_enc_output,\n",
    "                          mask=(example_tokens != 0)),\n",
    "    state = example_enc_state\n",
    ")\n",
    "\n",
    "print(f'logits shape: (batch_size, t, output_vocab_size) {dec_result.logits.shape}')\n",
    "print(f'state shape: (batch_size, dec_units) {dec_state.shape}')"
   ],
   "metadata": {
    "colab": {
     "base_uri": "https://localhost:8080/"
    },
    "id": "byKvpnsdSP_w",
    "outputId": "bc9bd235-fbc9-4ced-d62b-2fb4efeb4962",
    "pycharm": {
     "name": "#%%\n"
    }
   },
   "execution_count": null,
   "outputs": [
    {
     "output_type": "stream",
     "name": "stdout",
     "text": [
      "logits shape: (batch_size, t, output_vocab_size) (256, 1, 5000)\n",
      "state shape: (batch_size, dec_units) (256, 1024)\n"
     ]
    }
   ]
  },
  {
   "cell_type": "code",
   "source": [
    "sampled_token = tf.random.categorical(dec_result.logits[:, 0, :], num_samples=1)"
   ],
   "metadata": {
    "id": "agBLSk_WSP9r",
    "pycharm": {
     "name": "#%%\n"
    }
   },
   "execution_count": null,
   "outputs": []
  },
  {
   "cell_type": "code",
   "source": [
    "vocab = np.array(fa_vectorization.get_vocabulary())\n",
    "first_word = vocab[sampled_token.numpy()]\n",
    "first_word[:5]"
   ],
   "metadata": {
    "colab": {
     "base_uri": "https://localhost:8080/"
    },
    "id": "97lAQaBnSP7W",
    "outputId": "aa9873a2-5285-498d-fbd3-392ada7b307c",
    "pycharm": {
     "name": "#%%\n"
    }
   },
   "execution_count": null,
   "outputs": [
    {
     "output_type": "execute_result",
     "data": {
      "text/plain": [
       "array([['صدايي'],\n",
       "       ['آمريکا'],\n",
       "       ['مى\\u200fكنم'],\n",
       "       ['كنيد'],\n",
       "       ['درخواست']], dtype='<U11')"
      ]
     },
     "metadata": {},
     "execution_count": 52
    }
   ]
  },
  {
   "cell_type": "code",
   "source": [
    "dec_result, dec_state = decoder(\n",
    "    DecoderInput(sampled_token,\n",
    "                 example_enc_output,\n",
    "                 mask=(example_tokens != 0)),\n",
    "    state=dec_state)"
   ],
   "metadata": {
    "id": "EMC8UI0USP5D",
    "pycharm": {
     "name": "#%%\n"
    }
   },
   "execution_count": null,
   "outputs": []
  },
  {
   "cell_type": "code",
   "source": [
    "sampled_token = tf.random.categorical(dec_result.logits[:, 0, :], num_samples=1)\n",
    "first_word = vocab[sampled_token.numpy()]\n",
    "first_word[:5]"
   ],
   "metadata": {
    "colab": {
     "base_uri": "https://localhost:8080/"
    },
    "id": "2m_EhTRUSP2x",
    "outputId": "786b696f-aea1-41c1-c68c-16ec1b142d8e",
    "pycharm": {
     "name": "#%%\n"
    }
   },
   "execution_count": null,
   "outputs": [
    {
     "output_type": "execute_result",
     "data": {
      "text/plain": [
       "array([['انداز'],\n",
       "       ['دير'],\n",
       "       ['دارى'],\n",
       "       ['بازه'],\n",
       "       ['مراقبت']], dtype='<U11')"
      ]
     },
     "metadata": {},
     "execution_count": 54
    }
   ]
  },
  {
   "cell_type": "code",
   "source": [
    "class MaskedLoss(tf.keras.losses.Loss):\n",
    "  def __init__(self):\n",
    "    self.name = 'masked_loss'\n",
    "    self.loss = tf.keras.losses.SparseCategoricalCrossentropy(\n",
    "        from_logits=True, reduction='none')\n",
    "\n",
    "  def __call__(self, y_true, y_pred):\n",
    "    # Calculate the loss for each item in the batch.\n",
    "    loss = self.loss(y_true, y_pred)\n",
    "\n",
    "    # Mask off the losses on padding.\n",
    "    mask = tf.cast(y_true != 0, tf.float32)\n",
    "    loss *= mask\n",
    "\n",
    "    # Return the total.\n",
    "    return tf.reduce_sum(loss)"
   ],
   "metadata": {
    "id": "TnYmM3anSP0i",
    "pycharm": {
     "name": "#%%\n"
    }
   },
   "execution_count": null,
   "outputs": []
  },
  {
   "cell_type": "code",
   "source": [
    "class TrainTranslator(tf.keras.Model):\n",
    "  def __init__(self, embedding_dim, units,\n",
    "               input_text_processor,\n",
    "               output_text_processor, \n",
    "               use_tf_function=True):\n",
    "    super().__init__()\n",
    "    # Build the encoder and decoder\n",
    "    encoder = Encoder(input_text_processor.vocabulary_size(),\n",
    "                      embedding_dim, units)\n",
    "    decoder = Decoder(output_text_processor.vocabulary_size(),\n",
    "                      embedding_dim, units)\n",
    "\n",
    "    self.encoder = encoder\n",
    "    self.decoder = decoder\n",
    "    self.input_text_processor = input_text_processor\n",
    "    self.output_text_processor = output_text_processor\n",
    "    self.use_tf_function = use_tf_function\n",
    "\n",
    "  def train_step(self, inputs):\n",
    "    if self.use_tf_function:\n",
    "      return self._tf_train_step(inputs)\n",
    "    else:\n",
    "      return self._train_step(inputs)"
   ],
   "metadata": {
    "id": "WeDyJgVAUkoa",
    "pycharm": {
     "name": "#%%\n"
    }
   },
   "execution_count": null,
   "outputs": []
  },
  {
   "cell_type": "code",
   "source": [
    "def _preprocess(self, input_text, target_text):\n",
    "  # Convert the text to token IDs\n",
    "  input_tokens = self.input_text_processor(input_text)\n",
    "  target_tokens = self.output_text_processor(target_text)\n",
    "\n",
    "  # Convert IDs to masks.\n",
    "  input_mask = input_tokens != 0\n",
    "  target_mask = target_tokens != 0\n",
    "\n",
    "  return input_tokens, input_mask, target_tokens, target_mask\n",
    "  \n",
    "TrainTranslator._preprocess = _preprocess"
   ],
   "metadata": {
    "id": "kzGA9pTkUkmu",
    "pycharm": {
     "name": "#%%\n"
    }
   },
   "execution_count": null,
   "outputs": []
  },
  {
   "cell_type": "code",
   "source": [
    "def _train_step(self, inputs):\n",
    "  input_text, target_text = inputs  \n",
    "\n",
    "  (input_tokens, input_mask,\n",
    "   target_tokens, target_mask) = self._preprocess(input_text, target_text)\n",
    "\n",
    "  max_target_length = tf.shape(target_tokens)[1]\n",
    "\n",
    "  with tf.GradientTape() as tape:\n",
    "    # Encode the input\n",
    "    enc_output, enc_state = self.encoder(input_tokens)\n",
    "\n",
    "    # Initialize the decoder's state to the encoder's final state.\n",
    "    # This only works if the encoder and decoder have the same number of\n",
    "    # units.\n",
    "    dec_state = enc_state\n",
    "    loss = tf.constant(0.0)\n",
    "\n",
    "    for t in tf.range(max_target_length-1):\n",
    "      # Pass in two tokens from the target sequence:\n",
    "      # 1. The current input to the decoder.\n",
    "      # 2. The target for the decoder's next prediction.\n",
    "      new_tokens = target_tokens[:, t:t+2]\n",
    "      step_loss, dec_state = self._loop_step(new_tokens, input_mask,\n",
    "                                             enc_output, dec_state)\n",
    "      loss = loss + step_loss\n",
    "\n",
    "    # Average the loss over all non padding tokens.\n",
    "    average_loss = loss / tf.reduce_sum(tf.cast(target_mask, tf.float32))\n",
    "\n",
    "  # Apply an optimization step\n",
    "  variables = self.trainable_variables \n",
    "  gradients = tape.gradient(average_loss, variables)\n",
    "  self.optimizer.apply_gradients(zip(gradients, variables))\n",
    "\n",
    "  # Return a dict mapping metric names to current value\n",
    "  return {'batch_loss': average_loss}\n",
    "  \n",
    "TrainTranslator._train_step = _train_step"
   ],
   "metadata": {
    "id": "B8MHldOnUkkz",
    "pycharm": {
     "name": "#%%\n"
    }
   },
   "execution_count": null,
   "outputs": []
  },
  {
   "cell_type": "code",
   "source": [
    "def _loop_step(self, new_tokens, input_mask, enc_output, dec_state):\n",
    "  input_token, target_token = new_tokens[:, 0:1], new_tokens[:, 1:2]\n",
    "\n",
    "  # Run the decoder one step.\n",
    "  decoder_input = DecoderInput(new_tokens=input_token,\n",
    "                               enc_output=enc_output,\n",
    "                               mask=input_mask)\n",
    "\n",
    "  dec_result, dec_state = self.decoder(decoder_input, state=dec_state)\n",
    "\n",
    "  # `self.loss` returns the total for non-padded tokens\n",
    "  y = target_token\n",
    "  y_pred = dec_result.logits\n",
    "  step_loss = self.loss(y, y_pred)\n",
    "\n",
    "  return step_loss, dec_state\n",
    "\n",
    "TrainTranslator._loop_step = _loop_step"
   ],
   "metadata": {
    "id": "Hb7su1OxUkjD",
    "pycharm": {
     "name": "#%%\n"
    }
   },
   "execution_count": null,
   "outputs": []
  },
  {
   "cell_type": "code",
   "source": [
    "translator = TrainTranslator(\n",
    "    embedding_dim, units,\n",
    "    input_text_processor=en_vectorization,\n",
    "    output_text_processor=fa_vectorization,\n",
    "    use_tf_function=False\n",
    ")\n",
    "\n",
    "# Configure the loss and optimizer\n",
    "translator.compile(\n",
    "    optimizer=tf.optimizers.Adam(),\n",
    "    loss=MaskedLoss(),\n",
    ")"
   ],
   "metadata": {
    "id": "NmgobYAsUkhX",
    "pycharm": {
     "name": "#%%\n"
    }
   },
   "execution_count": null,
   "outputs": []
  },
  {
   "cell_type": "code",
   "source": [
    "np.log(fa_vectorization.vocabulary_size())"
   ],
   "metadata": {
    "colab": {
     "base_uri": "https://localhost:8080/"
    },
    "id": "BikEOJhHUkej",
    "outputId": "05c6d3ae-e0e9-42c5-8bb8-184d4782647f",
    "pycharm": {
     "name": "#%%\n"
    }
   },
   "execution_count": null,
   "outputs": [
    {
     "output_type": "execute_result",
     "data": {
      "text/plain": [
       "8.517193191416238"
      ]
     },
     "metadata": {},
     "execution_count": 61
    }
   ]
  },
  {
   "cell_type": "code",
   "source": [
    "for n in range(10):\n",
    "  print(translator.train_step([example_input_batch, example_target_batch]))"
   ],
   "metadata": {
    "colab": {
     "base_uri": "https://localhost:8080/"
    },
    "id": "cCLc9XuZUkaX",
    "outputId": "19fc5cea-d8e6-4875-ed44-e5883e371f3f",
    "pycharm": {
     "name": "#%%\n"
    }
   },
   "execution_count": null,
   "outputs": [
    {
     "output_type": "stream",
     "name": "stdout",
     "text": [
      "{'batch_loss': <tf.Tensor: shape=(), dtype=float32, numpy=7.6821394>}\n",
      "{'batch_loss': <tf.Tensor: shape=(), dtype=float32, numpy=7.6521664>}\n",
      "{'batch_loss': <tf.Tensor: shape=(), dtype=float32, numpy=7.5909433>}\n",
      "{'batch_loss': <tf.Tensor: shape=(), dtype=float32, numpy=7.406901>}\n",
      "{'batch_loss': <tf.Tensor: shape=(), dtype=float32, numpy=6.729277>}\n",
      "{'batch_loss': <tf.Tensor: shape=(), dtype=float32, numpy=5.244621>}\n",
      "{'batch_loss': <tf.Tensor: shape=(), dtype=float32, numpy=5.01641>}\n",
      "{'batch_loss': <tf.Tensor: shape=(), dtype=float32, numpy=4.748599>}\n",
      "{'batch_loss': <tf.Tensor: shape=(), dtype=float32, numpy=4.5454707>}\n",
      "{'batch_loss': <tf.Tensor: shape=(), dtype=float32, numpy=4.4782662>}\n",
      "\n",
      "CPU times: user 8.85 s, sys: 176 ms, total: 9.03 s\n",
      "Wall time: 11.4 s\n"
     ]
    }
   ]
  },
  {
   "cell_type": "code",
   "source": [
    "@tf.function(input_signature=[[tf.TensorSpec(dtype=tf.string, shape=[None]),\n",
    "                               tf.TensorSpec(dtype=tf.string, shape=[None])]])\n",
    "def _tf_train_step(self, inputs):\n",
    "  return self._train_step(inputs)"
   ],
   "metadata": {
    "id": "cud8LTdXUkWF",
    "pycharm": {
     "name": "#%%\n"
    }
   },
   "execution_count": null,
   "outputs": []
  },
  {
   "cell_type": "code",
   "source": [
    "TrainTranslator._tf_train_step = _tf_train_step"
   ],
   "metadata": {
    "id": "5acLXT615fby",
    "pycharm": {
     "name": "#%%\n"
    }
   },
   "execution_count": null,
   "outputs": []
  },
  {
   "cell_type": "code",
   "source": [
    "translator.use_tf_function = True"
   ],
   "metadata": {
    "id": "4zB9yP8oXKjI",
    "pycharm": {
     "name": "#%%\n"
    }
   },
   "execution_count": null,
   "outputs": []
  },
  {
   "cell_type": "code",
   "execution_count": null,
   "metadata": {
    "id": "pLQZsX2dp1QK",
    "colab": {
     "base_uri": "https://localhost:8080/"
    },
    "outputId": "b6244070-28be-45c0-e48f-fc5e02e15036",
    "pycharm": {
     "name": "#%%\n"
    }
   },
   "outputs": [
    {
     "output_type": "execute_result",
     "data": {
      "text/plain": [
       "{'batch_loss': <tf.Tensor: shape=(), dtype=float32, numpy=4.4822693>}"
      ]
     },
     "metadata": {},
     "execution_count": 66
    }
   ],
   "source": [
    "translator.train_step([example_input_batch, example_target_batch])"
   ]
  },
  {
   "cell_type": "code",
   "source": [
    "for n in range(10):\n",
    "  print(translator.train_step([example_input_batch, example_target_batch]))"
   ],
   "metadata": {
    "colab": {
     "base_uri": "https://localhost:8080/"
    },
    "id": "x8uVJrSaXKe1",
    "outputId": "7d495bda-1360-4720-8870-76e9c644682e",
    "pycharm": {
     "name": "#%%\n"
    }
   },
   "execution_count": null,
   "outputs": [
    {
     "metadata": {
      "tags": null
     },
     "name": "stdout",
     "output_type": "stream",
     "text": [
      "{'batch_loss': <tf.Tensor: shape=(), dtype=float32, numpy=4.509992>}\n",
      "{'batch_loss': <tf.Tensor: shape=(), dtype=float32, numpy=4.4781566>}\n",
      "{'batch_loss': <tf.Tensor: shape=(), dtype=float32, numpy=4.3914375>}\n",
      "{'batch_loss': <tf.Tensor: shape=(), dtype=float32, numpy=4.3099527>}\n",
      "{'batch_loss': <tf.Tensor: shape=(), dtype=float32, numpy=4.283483>}\n",
      "{'batch_loss': <tf.Tensor: shape=(), dtype=float32, numpy=4.277652>}\n",
      "{'batch_loss': <tf.Tensor: shape=(), dtype=float32, numpy=4.256672>}\n",
      "{'batch_loss': <tf.Tensor: shape=(), dtype=float32, numpy=4.2086725>}\n",
      "{'batch_loss': <tf.Tensor: shape=(), dtype=float32, numpy=4.157209>}\n",
      "{'batch_loss': <tf.Tensor: shape=(), dtype=float32, numpy=4.117938>}\n",
      "\n",
      "CPU times: user 6.27 s, sys: 455 ms, total: 6.72 s\n",
      "Wall time: 5.29 s\n"
     ]
    }
   ]
  },
  {
   "cell_type": "code",
   "source": [
    "losses = []\n",
    "for n in range(100):\n",
    "  print('.', end='')\n",
    "  logs = translator.train_step([example_input_batch, example_target_batch])\n",
    "  losses.append(logs['batch_loss'].numpy())\n",
    "\n",
    "print()\n",
    "plt.plot(losses)"
   ],
   "metadata": {
    "colab": {
     "base_uri": "https://localhost:8080/",
     "height": 300
    },
    "id": "_s00gl_sXKcr",
    "outputId": "ce338f15-649f-428d-d153-49c20a2dcf27",
    "pycharm": {
     "name": "#%%\n"
    }
   },
   "execution_count": null,
   "outputs": [
    {
     "output_type": "stream",
     "name": "stdout",
     "text": [
      "....................................................................................................\n"
     ]
    },
    {
     "output_type": "execute_result",
     "data": {
      "text/plain": [
       "[<matplotlib.lines.Line2D at 0x7f7807ec2890>]"
      ]
     },
     "metadata": {},
     "execution_count": 68
    },
    {
     "output_type": "display_data",
     "data": {
      "text/plain": [
       "<Figure size 432x288 with 1 Axes>"
      ],
      "image/png": "[encoded data removed]"
     },
     "metadata": {
      "needs_background": "light"
     }
    }
   ]
  },
  {
   "cell_type": "code",
   "source": [
    "train_translator = TrainTranslator(\n",
    "    embedding_dim, units,\n",
    "    input_text_processor=en_vectorization,\n",
    "    output_text_processor=fa_vectorization\n",
    ")\n",
    "\n",
    "# Configure the loss and optimizer\n",
    "train_translator.compile(\n",
    "    optimizer=tf.optimizers.Adam(),\n",
    "    loss=MaskedLoss(),\n",
    ")"
   ],
   "metadata": {
    "id": "-sPW7vyFXKaq",
    "pycharm": {
     "name": "#%%\n"
    }
   },
   "execution_count": null,
   "outputs": []
  },
  {
   "cell_type": "code",
   "source": [
    "class BatchLogs(tf.keras.callbacks.Callback):\n",
    "  def __init__(self, key):\n",
    "    self.key = key\n",
    "    self.logs = []\n",
    "\n",
    "  def on_train_batch_end(self, n, logs):\n",
    "    self.logs.append(logs[self.key])\n",
    "\n",
    "batch_loss = BatchLogs('batch_loss')"
   ],
   "metadata": {
    "id": "k97OcqvjYcR5",
    "pycharm": {
     "name": "#%%\n"
    }
   },
   "execution_count": null,
   "outputs": []
  },
  {
   "cell_type": "code",
   "source": [
    "train_translator.fit(dataset, epochs=10,\n",
    "                     callbacks=[batch_loss])"
   ],
   "metadata": {
    "colab": {
     "base_uri": "https://localhost:8080/"
    },
    "id": "FJYk_hjMYcMr",
    "outputId": "03c77265-36dd-45af-fd41-006584d31940",
    "pycharm": {
     "name": "#%%\n"
    }
   },
   "execution_count": null,
   "outputs": [
    {
     "output_type": "stream",
     "name": "stdout",
     "text": [
      "Epoch 1/10\n",
      "782/782 [==============================] - 436s 557ms/step - batch_loss: 1.9320\n",
      "Epoch 2/10\n",
      "782/782 [==============================] - 425s 543ms/step - batch_loss: 1.7362\n",
      "Epoch 3/10\n",
      "782/782 [==============================] - 426s 543ms/step - batch_loss: 1.5282\n",
      "Epoch 4/10\n",
      "782/782 [==============================] - 426s 544ms/step - batch_loss: 1.3165\n",
      "Epoch 5/10\n",
      "782/782 [==============================] - 426s 545ms/step - batch_loss: 1.1148\n",
      "Epoch 6/10\n",
      "782/782 [==============================] - 428s 547ms/step - batch_loss: 0.9328\n",
      "Epoch 7/10\n",
      "782/782 [==============================] - 427s 546ms/step - batch_loss: 0.7791\n",
      "Epoch 8/10\n",
      "782/782 [==============================] - 429s 548ms/step - batch_loss: 0.6519\n",
      "Epoch 9/10\n",
      "782/782 [==============================] - 427s 546ms/step - batch_loss: 0.5498\n",
      "Epoch 10/10\n",
      "782/782 [==============================] - 427s 545ms/step - batch_loss: 0.4709\n"
     ]
    },
    {
     "output_type": "execute_result",
     "data": {
      "text/plain": [
       "<keras.callbacks.History at 0x7f7806cd60d0>"
      ]
     },
     "metadata": {},
     "execution_count": 76
    }
   ]
  },
  {
   "cell_type": "code",
   "source": [],
   "metadata": {
    "id": "_S4RrDVNYVDv",
    "pycharm": {
     "name": "#%%\n"
    }
   },
   "execution_count": null,
   "outputs": []
  },
  {
   "cell_type": "code",
   "source": [
    "from google.colab import drive\n",
    "drive.mount('/content/drive')"
   ],
   "metadata": {
    "colab": {
     "base_uri": "https://localhost:8080/"
    },
    "id": "jJFxKNRh5l_m",
    "outputId": "e5e70343-8994-4140-a351-db1d4b3031d2",
    "pycharm": {
     "name": "#%%\n"
    }
   },
   "execution_count": null,
   "outputs": [
    {
     "output_type": "stream",
     "name": "stdout",
     "text": [
      "Mounted at /content/drive\n"
     ]
    }
   ]
  },
  {
   "cell_type": "code",
   "source": [
    "train_translator.get_weights()"
   ],
   "metadata": {
    "id": "PmljI6zxdfsD",
    "pycharm": {
     "name": "#%%\n"
    }
   },
   "execution_count": null,
   "outputs": []
  },
  {
   "cell_type": "code",
   "source": [
    "# train_translator.save(\"drive/MyDrive/Colab Notebooks/nmt_model\")\n",
    "\n",
    "\n",
    "import pickle\n",
    "\n",
    "with open('drive/MyDrive/Colab Notebooks/nmt_model_weights_loss_04709.pkl', 'wb') as outp:\n",
    "    pickle.dump(train_translator.get_weights(), outp)\n"
   ],
   "metadata": {
    "id": "MOZw4wYjYU5i",
    "pycharm": {
     "name": "#%%\n"
    }
   },
   "execution_count": null,
   "outputs": []
  },
  {
   "cell_type": "code",
   "source": [
    "plt.plot(batch_loss.logs)\n",
    "plt.ylim([0, 3])\n",
    "plt.xlabel('Batch #')\n",
    "plt.ylabel('CE/token')"
   ],
   "metadata": {
    "id": "Ad7bD6fHYU2A",
    "colab": {
     "base_uri": "https://localhost:8080/",
     "height": 300
    },
    "outputId": "135056dd-d5c1-4dea-fa0a-33e2ed965b87",
    "pycharm": {
     "name": "#%%\n"
    }
   },
   "execution_count": null,
   "outputs": [
    {
     "output_type": "execute_result",
     "data": {
      "text/plain": [
       "Text(0, 0.5, 'CE/token')"
      ]
     },
     "metadata": {},
     "execution_count": 80
    },
    {
     "output_type": "display_data",
     "data": {
      "text/plain": [
       "<Figure size 432x288 with 1 Axes>"
      ],
      "image/png": "[encoded data removed]"
     },
     "metadata": {
      "needs_background": "light"
     }
    }
   ]
  },
  {
   "cell_type": "code",
   "source": [
    "class Translator(tf.Module):\n",
    "\n",
    "  def __init__(self, encoder, decoder, input_text_processor,\n",
    "               output_text_processor):\n",
    "    self.encoder = encoder\n",
    "    self.decoder = decoder\n",
    "    self.input_text_processor = input_text_processor\n",
    "    self.output_text_processor = output_text_processor\n",
    "\n",
    "    self.output_token_string_from_index = (\n",
    "        tf.keras.layers.StringLookup(\n",
    "            vocabulary=output_text_processor.get_vocabulary(),\n",
    "            mask_token='',\n",
    "            invert=True)\n",
    "    )\n",
    "\n",
    "    # The output should never generate padding, unknown, or start.\n",
    "    index_from_string = tf.keras.layers.StringLookup(\n",
    "        vocabulary=output_text_processor.get_vocabulary(), mask_token=''\n",
    "    )\n",
    "    token_mask_ids = index_from_string(['', '[UNK]', '[START]']).numpy()\n",
    "\n",
    "    token_mask = np.zeros([index_from_string.vocabulary_size()], dtype=np.bool)\n",
    "    token_mask[np.array(token_mask_ids)] = True\n",
    "    self.token_mask = token_mask\n",
    "\n",
    "    self.start_token = index_from_string(tf.constant('[START]'))\n",
    "    self.end_token = index_from_string(tf.constant('[END]'))"
   ],
   "metadata": {
    "id": "wuJf35H6YUyh",
    "pycharm": {
     "name": "#%%\n"
    }
   },
   "execution_count": null,
   "outputs": []
  },
  {
   "cell_type": "code",
   "source": [
    "translator = Translator(\n",
    "    encoder=train_translator.encoder,\n",
    "    decoder=train_translator.decoder,\n",
    "    input_text_processor=en_vectorization,\n",
    "    output_text_processor=fa_vectorization,\n",
    ")"
   ],
   "metadata": {
    "id": "dYhbNQBKYUvQ",
    "colab": {
     "base_uri": "https://localhost:8080/"
    },
    "outputId": "a9477f8a-271e-4b00-c8c2-93a538cda521",
    "pycharm": {
     "name": "#%%\n"
    }
   },
   "execution_count": null,
   "outputs": [
    {
     "output_type": "stream",
     "name": "stderr",
     "text": [
      "/usr/local/lib/python3.7/dist-packages/ipykernel_launcher.py:21: DeprecationWarning: `np.bool` is a deprecated alias for the builtin `bool`. To silence this warning, use `bool` by itself. Doing this will not modify any behavior and is safe. If you specifically wanted the numpy scalar type, use `np.bool_` here.\n",
      "Deprecated in NumPy 1.20; for more details and guidance: https://numpy.org/devdocs/release/1.20.0-notes.html#deprecations\n"
     ]
    }
   ]
  },
  {
   "cell_type": "code",
   "source": [
    "def tokens_to_text(self, result_tokens):\n",
    "  result_text_tokens = self.output_token_string_from_index(result_tokens)\n",
    "\n",
    "  result_text = tf.strings.reduce_join(result_text_tokens,\n",
    "                                       axis=1, separator=' ')\n",
    "\n",
    "  result_text = tf.strings.strip(result_text)\n",
    "  \n",
    "  return result_text\n",
    "\n",
    "Translator.tokens_to_text = tokens_to_text"
   ],
   "metadata": {
    "id": "GB2r47ONYUo7",
    "pycharm": {
     "name": "#%%\n"
    }
   },
   "execution_count": null,
   "outputs": []
  },
  {
   "cell_type": "code",
   "source": [
    "example_output_tokens = tf.random.uniform(\n",
    "    shape=[5, 2], minval=0, dtype=tf.int64,\n",
    "    maxval=fa_vectorization.vocabulary_size())\n",
    "translator.tokens_to_text(example_output_tokens).numpy()[4].decode()"
   ],
   "metadata": {
    "id": "1QYelQicYUlv",
    "colab": {
     "base_uri": "https://localhost:8080/",
     "height": 36
    },
    "outputId": "cda0e29e-ff08-48f4-f936-bacf32cd172e",
    "pycharm": {
     "name": "#%%\n"
    }
   },
   "execution_count": null,
   "outputs": [
    {
     "output_type": "execute_result",
     "data": {
      "text/plain": [
       "'داري آينه'"
      ],
      "application/vnd.google.colaboratory.intrinsic+json": {
       "type": "string"
      }
     },
     "metadata": {},
     "execution_count": 94
    }
   ]
  },
  {
   "cell_type": "code",
   "source": [
    "def sample(self, logits, temperature):\n",
    "  token_mask = self.token_mask[tf.newaxis, tf.newaxis, :]\n",
    "\n",
    "  # Set the logits for all masked tokens to -inf, so they are never chosen.\n",
    "  logits = tf.where(self.token_mask, -np.inf, logits)\n",
    "\n",
    "  if temperature == 0.0:\n",
    "    new_tokens = tf.argmax(logits, axis=-1)\n",
    "  else: \n",
    "    logits = tf.squeeze(logits, axis=1)\n",
    "    new_tokens = tf.random.categorical(logits/temperature,\n",
    "                                        num_samples=1)\n",
    "  \n",
    "  return new_tokens\n",
    "\n",
    "Translator.sample = sample"
   ],
   "metadata": {
    "id": "0w2vZDpdXKYM",
    "pycharm": {
     "name": "#%%\n"
    }
   },
   "execution_count": null,
   "outputs": []
  },
  {
   "cell_type": "code",
   "source": [
    "example_logits = tf.random.normal([5, 1, fa_vectorization.vocabulary_size()])\n",
    "example_output_tokens = translator.sample(example_logits, temperature=1.0)\n",
    "example_output_tokens"
   ],
   "metadata": {
    "colab": {
     "base_uri": "https://localhost:8080/"
    },
    "id": "S7yup8Lu1mWy",
    "outputId": "5aa180ac-87f2-4b6b-d354-2e65dc07f2fa",
    "pycharm": {
     "name": "#%%\n"
    }
   },
   "execution_count": null,
   "outputs": [
    {
     "output_type": "execute_result",
     "data": {
      "text/plain": [
       "<tf.Tensor: shape=(5, 1), dtype=int64, numpy=\n",
       "array([[  69],\n",
       "       [ 249],\n",
       "       [2081],\n",
       "       [3817],\n",
       "       [4650]])>"
      ]
     },
     "metadata": {},
     "execution_count": 98
    }
   ]
  },
  {
   "cell_type": "code",
   "source": [
    "def translate_unrolled(self,\n",
    "                       input_text, *,\n",
    "                       max_length=50,\n",
    "                       return_attention=True,\n",
    "                       temperature=1.0):\n",
    "  batch_size = tf.shape(input_text)[0]\n",
    "  input_tokens = self.input_text_processor(input_text)\n",
    "  enc_output, enc_state = self.encoder(input_tokens)\n",
    "\n",
    "  dec_state = enc_state\n",
    "  new_tokens = tf.fill([batch_size, 1], self.start_token)\n",
    "\n",
    "  result_tokens = []\n",
    "  attention = []\n",
    "  done = tf.zeros([batch_size, 1], dtype=tf.bool)\n",
    "\n",
    "  for _ in range(max_length):\n",
    "    dec_input = DecoderInput(new_tokens=new_tokens,\n",
    "                             enc_output=enc_output,\n",
    "                             mask=(input_tokens!=0))\n",
    "    \n",
    "    dec_result, dec_state = self.decoder(dec_input, state=dec_state)\n",
    "\n",
    "    attention.append(dec_result.attention_weights)\n",
    "\n",
    "    new_tokens = self.sample(dec_result.logits, temperature)\n",
    "\n",
    "    # If a sequence produces an `end_token`, set it `done`\n",
    "    done = done | (new_tokens == self.end_token)\n",
    "    # Once a sequence is done it only produces 0-padding.\n",
    "    new_tokens = tf.where(done, tf.constant(0, dtype=tf.int64), new_tokens)\n",
    "\n",
    "    # Collect the generated tokens\n",
    "    result_tokens.append(new_tokens)\n",
    "\n",
    "    if tf.executing_eagerly() and tf.reduce_all(done):\n",
    "      break\n",
    "\n",
    "  # Convert the list of generates token ids to a list of strings.\n",
    "  result_tokens = tf.concat(result_tokens, axis=-1)\n",
    "  result_text = self.tokens_to_text(result_tokens)\n",
    "\n",
    "  if return_attention:\n",
    "    attention_stack = tf.concat(attention, axis=1)\n",
    "    return {'text': result_text, 'attention': attention_stack}\n",
    "  else:\n",
    "    return {'text': result_text}\n",
    "\n",
    "Translator.translate = translate_unrolled"
   ],
   "metadata": {
    "id": "P2J9CaQL1vum",
    "pycharm": {
     "name": "#%%\n"
    }
   },
   "execution_count": null,
   "outputs": []
  },
  {
   "cell_type": "code",
   "source": [
    "lines_en[202000: 202015]"
   ],
   "metadata": {
    "colab": {
     "base_uri": "https://localhost:8080/"
    },
    "id": "x0OFlAcy9z9_",
    "outputId": "573bf2ac-35f9-442c-ffa0-4bb444d42d48",
    "pycharm": {
     "name": "#%%\n"
    }
   },
   "execution_count": null,
   "outputs": [
    {
     "output_type": "execute_result",
     "data": {
      "text/plain": [
       "['and by spartan law , we will stand and fight .',\n",
       " 'and die .',\n",
       " 'a new age has begun .',\n",
       " 'an age of freedom .',\n",
       " 'and all will know that 300 spartans .',\n",
       " 'gave their last breath to defend it .',\n",
       " 'my friend .',\n",
       " 'i have lived my entire life without regret until now .',\n",
       " 'its not that my son gave up his life for his country .',\n",
       " 'its just that i never told him that i loved him the most .',\n",
       " 'that he stood by me with honor .',\n",
       " 'that he was all that was best in me .',\n",
       " 'my heart is broken for your loss .',\n",
       " 'i have filled my heart .',\n",
       " 'dilios .']"
      ]
     },
     "metadata": {},
     "execution_count": 147
    }
   ]
  },
  {
   "cell_type": "code",
   "source": [
    "input_text = tf.constant([\n",
    "    \"ill swear on the good book .\",\n",
    "    \"that was unfortunate .\", \n",
    "    \"you lied to me , dan .\"\n",
    "])\n",
    "\n",
    "result = translator.translate(\n",
    "    input_text = input_text)\n",
    "\n",
    "print(result['text'][0].numpy().decode())\n",
    "print(result['text'][1].numpy().decode())\n",
    "print(result['text'][2].numpy().decode())"
   ],
   "metadata": {
    "id": "EUc3ukV51vrg",
    "pycharm": {
     "name": "#%%\n"
    }
   },
   "execution_count": null,
   "outputs": []
  },
  {
   "cell_type": "code",
   "source": [
    "@tf.function(input_signature=[tf.TensorSpec(dtype=tf.string, shape=[None])])\n",
    "def tf_translate(self, input_text):\n",
    "  return self.translate(input_text)\n",
    "\n",
    "Translator.tf_translate = tf_translate"
   ],
   "metadata": {
    "id": "E5UmXXMQ3WUf",
    "pycharm": {
     "name": "#%%\n"
    }
   },
   "execution_count": null,
   "outputs": []
  },
  {
   "cell_type": "code",
   "source": [
    "tf.saved_model.save(translator, '/content/drive/MyDrive/Colab Notebooks/en_fa_translator_model',\n",
    "                    signatures={'serving_default': translator.tf_translate})"
   ],
   "metadata": {
    "colab": {
     "base_uri": "https://localhost:8080/"
    },
    "id": "tgxSaVQ31vUU",
    "outputId": "3e6fab6f-8b43-4574-abbc-05006aa50c2f",
    "pycharm": {
     "name": "#%%\n"
    }
   },
   "execution_count": null,
   "outputs": [
    {
     "output_type": "stream",
     "name": "stderr",
     "text": [
      "WARNING:absl:Found untraced functions such as encoder_2_layer_call_fn, encoder_2_layer_call_and_return_conditional_losses, decoder_2_layer_call_fn, decoder_2_layer_call_and_return_conditional_losses, embedding_4_layer_call_fn while saving (showing 5 of 24). These functions will not be directly callable after loading.\n"
     ]
    },
    {
     "output_type": "stream",
     "name": "stdout",
     "text": [
      "INFO:tensorflow:Assets written to: /content/drive/MyDrive/Colab Notebooks/en_fa_translator_model/assets\n"
     ]
    },
    {
     "output_type": "stream",
     "name": "stderr",
     "text": [
      "INFO:tensorflow:Assets written to: /content/drive/MyDrive/Colab Notebooks/en_fa_translator_model/assets\n"
     ]
    }
   ]
  },
  {
   "cell_type": "code",
   "source": [
    "!sudo apt-get install rar"
   ],
   "metadata": {
    "id": "dZrFNsX34iUe",
    "pycharm": {
     "name": "#%%\n"
    }
   },
   "execution_count": null,
   "outputs": []
  },
  {
   "cell_type": "code",
   "source": [
    "!rar a en_fa_translator_model.rar \"/content/drive/MyDrive/Colab Notebooks/en_fa_translator_model\""
   ],
   "metadata": {
    "colab": {
     "base_uri": "https://localhost:8080/"
    },
    "id": "-2UC_4b81vR3",
    "outputId": "e7eab3ea-4679-4ec8-af50-2affe20abbc1",
    "pycharm": {
     "name": "#%%\n"
    }
   },
   "execution_count": null,
   "outputs": [
    {
     "output_type": "stream",
     "name": "stdout",
     "text": [
      "\n",
      "RAR 5.50   Copyright (c) 1993-2017 Alexander Roshal   11 Aug 2017\n",
      "Trial version             Type 'rar -?' for help\n",
      "\n",
      "Evaluation copy. Please register.\n",
      "\n",
      "Creating archive en_fa_translator_model.rar\n",
      "\n",
      "Adding    /content/drive/MyDrive/Colab Notebooks/en_fa_translator_model/variables/variables.data-00000-of-00001     \b\b\b\b  4%\b\b\b\b  9%\b\b\b\b 14%\b\b\b\b 19%\b\b\b\b 24%\b\b\b\b 29%\b\b\b\b 34%\b\b\b\b 39%\b\b\b\b 44%\b\b\b\b 49%\b\b\b\b 54%\b\b\b\b 59%\b\b\b\b 64%\b\b\b\b 69%\b\b\b\b 74%\b\b\b\b 79%\b\b\b\b 84%\b\b\b\b 89%\b\b\b\b 93%\b\b\b\b\b  OK \n",
      "Adding    /content/drive/MyDrive/Colab Notebooks/en_fa_translator_model/variables/variables.index     \b\b\b\b 93%\b\b\b\b\b  OK \n",
      "Adding    /content/drive/MyDrive/Colab Notebooks/en_fa_translator_model/saved_model.pb     \b\b\b\b 98%\b\b\b\b 99%\b\b\b\b\b  OK \n",
      "Adding    /content/drive/MyDrive/Colab Notebooks/en_fa_translator_model/variables     \b\b\b\b\b  OK \n",
      "Adding    /content/drive/MyDrive/Colab Notebooks/en_fa_translator_model/assets     \b\b\b\b\b  OK \n",
      "Adding    /content/drive/MyDrive/Colab Notebooks/en_fa_translator_model     \b\b\b\b\b  OK \n",
      "Done\n"
     ]
    }
   ]
  },
  {
   "cell_type": "code",
   "source": [
    "!cp en_fa_translator_model.rar \"/content/drive/MyDrive/Colab Notebooks/\""
   ],
   "metadata": {
    "id": "PXmgEkOe1vPd",
    "pycharm": {
     "name": "#%%\n"
    }
   },
   "execution_count": null,
   "outputs": []
  },
  {
   "cell_type": "code",
   "source": [
    "translator = tf.saved_model.load('drive/MyDrive/Colab Notebooks/en_fa_translator_model')"
   ],
   "metadata": {
    "id": "rbqs46VK1vNL",
    "pycharm": {
     "name": "#%%\n"
    }
   },
   "execution_count": null,
   "outputs": []
  },
  {
   "cell_type": "code",
   "source": [
    "input_text = tf.constant([\n",
    "    \"ill swear on the good book .\",\n",
    "    \"that was unfortunate .\", \n",
    "    \"you lied to me , dan .\",\n",
    "    'its not that my son gave up his life for his country .'\n",
    "])\n",
    "\n",
    "results = translator.tf_translate(input_text)\n",
    "\n",
    "for result in results['text']:\n",
    "  print(result.numpy().decode())"
   ],
   "metadata": {
    "colab": {
     "base_uri": "https://localhost:8080/"
    },
    "id": "ibZ32XwL1vKk",
    "outputId": "cef0ef65-0fc0-42c4-cd23-4d44267dcdf0",
    "pycharm": {
     "name": "#%%\n"
    }
   },
   "execution_count": null,
   "outputs": [
    {
     "output_type": "stream",
     "name": "stdout",
     "text": [
      "، به علاوه ، توي کتاب مقدس قسم ميخورم .\n",
      "آشفته بود .\n",
      "تو به من دروغ گفتي دن .\n",
      "اون بچه ي من نيست که شوهر اون براي کشور من خوبه .\n"
     ]
    }
   ]
  },
  {
   "cell_type": "code",
   "source": [],
   "metadata": {
    "id": "84FwALH25cPo",
    "pycharm": {
     "name": "#%%\n"
    }
   },
   "execution_count": null,
   "outputs": []
  },
  {
   "cell_type": "code",
   "source": [],
   "metadata": {
    "id": "FRqKYVif5cNP",
    "pycharm": {
     "name": "#%%\n"
    }
   },
   "execution_count": null,
   "outputs": []
  },
  {
   "cell_type": "code",
   "source": [],
   "metadata": {
    "id": "qC_9aFyQ5cLI",
    "pycharm": {
     "name": "#%%\n"
    }
   },
   "execution_count": null,
   "outputs": []
  },
  {
   "cell_type": "code",
   "source": [],
   "metadata": {
    "id": "YgP1K8mY5cIo",
    "pycharm": {
     "name": "#%%\n"
    }
   },
   "execution_count": null,
   "outputs": []
  },
  {
   "cell_type": "code",
   "source": [
    "!head -n20 TEP.en-fa.en"
   ],
   "metadata": {
    "id": "BjJnRmiSPLjP",
    "colab": {
     "base_uri": "https://localhost:8080/"
    },
    "outputId": "6f1a850d-c582-4073-c81e-1ab6c91d69d8",
    "pycharm": {
     "name": "#%%\n"
    }
   },
   "execution_count": null,
   "outputs": [
    {
     "output_type": "stream",
     "name": "stdout",
     "text": [
      "raspy breathing .\n",
      "dad .\n",
      "maybe its the wind .\n",
      "no .\n",
      "stop please stop .\n",
      "you have a week , evans then well burn the house .\n",
      "william .\n",
      "god damn it , william .\n",
      "god damn it put that down .\n",
      "let go .\n",
      "its the last feed weve got .\n",
      "ill take care of this .\n",
      "no , you wont .\n",
      "herds over the ridge by now . you go get cleaned up .\n",
      "you lied to me , dan .\n",
      "you told me we made payments to hollander . we did .\n",
      "so , how do you think we bought feed , alice . three months water , the medicine for mark .\n",
      "i had a choice between our family and paying them down .\n",
      "were supposed to make decisions together .\n",
      "would you have made anything different .\n"
     ]
    }
   ]
  },
  {
   "cell_type": "code",
   "source": [
    "!head -n20 TEP.en-fa.fa"
   ],
   "metadata": {
    "colab": {
     "base_uri": "https://localhost:8080/"
    },
    "id": "kuQWX886Rvn-",
    "outputId": "3e0f4c6f-672d-46b8-a082-de80bbe5db46",
    "pycharm": {
     "name": "#%%\n"
    }
   },
   "execution_count": null,
   "outputs": [
    {
     "output_type": "stream",
     "name": "stdout",
     "text": [
      "صداي خر خر .\n",
      "پدر .\n",
      "شايد صداي باد باشه .\n",
      "نه .\n",
      "دست نگه داريد خواهش ميکنم دست نگه داريد .\n",
      "اوانز تو فقط يک هفته وقت داري وگرنه خونتو خواهيم سوزوند .\n",
      "ويليام .\n",
      "لعنتي . ويليام 8 .\n",
      "لعنت به تو . اونو بذار زمين .\n",
      "بذار برم .\n",
      "اين آخرين علوفه اي بود که ما داشتيم .\n",
      "من خودم اين کارو انجام ميدهم .\n",
      "نه تو نميکني .\n",
      "گله را آوردم بيرون الان . تو برو اونجا را تميز کن .\n",
      "تو به من دروغ گفتي دن .\n",
      "تو به من گفتي قرضمونو به هلندر پرداخت کرديم . ما پرداخت کرديم .\n",
      "خب پس تو فکر ميکني ما چطوري علوفه خريديم سه ماه آب خرج دارو مارک .\n",
      "من فقط يک انتخاب بين خانوادم و پرداخت قرض اونا داشتم .\n",
      "ما قرار بود تصميماتو با هم بگيريم .\n",
      "مگه تو تصميمه ديگه اي ميگرفتي .\n"
     ]
    }
   ]
  },
  {
   "cell_type": "code",
   "source": [
    "!cat TEP.en-fa.fa | wc -l\n",
    "!cat TEP.en-fa.en | wc -l"
   ],
   "metadata": {
    "colab": {
     "base_uri": "https://localhost:8080/"
    },
    "id": "351SzhNxR2us",
    "outputId": "74c89d01-ec45-460c-cfd8-5bb1584f1680",
    "pycharm": {
     "name": "#%%\n"
    }
   },
   "execution_count": null,
   "outputs": [
    {
     "output_type": "stream",
     "name": "stdout",
     "text": [
      "612086\n",
      "612086\n"
     ]
    }
   ]
  },
  {
   "cell_type": "code",
   "source": [
    "!head -n30 en-fa.tmx"
   ],
   "metadata": {
    "colab": {
     "base_uri": "https://localhost:8080/"
    },
    "id": "iU2Xo7foTOl0",
    "outputId": "10adecb1-9c30-4efd-abdf-e3ece5f40532",
    "pycharm": {
     "name": "#%%\n"
    }
   },
   "execution_count": null,
   "outputs": [
    {
     "output_type": "stream",
     "name": "stdout",
     "text": [
      "<?xml version=\"1.0\" encoding=\"UTF-8\" ?>\n",
      "<tmx version=\"1.4\">\n",
      "<header creationdate=\"Sun Mar  4 00:48:54 2018\"\n",
      "          srclang=\"en\"\n",
      "          adminlang=\"en\"\n",
      "          o-tmf=\"unknown\"\n",
      "          segtype=\"sentence\"\n",
      "          creationtool=\"Uplug\"\n",
      "          creationtoolversion=\"unknown\"\n",
      "          datatype=\"PlainText\" />\n",
      "  <body>\n",
      "    <tu>\n",
      "      <tuv xml:lang=\"en\"><seg>raspy breathing .</seg></tuv>\n",
      "      <tuv xml:lang=\"fa\"><seg>صداي خر خر .</seg></tuv>\n",
      "    </tu>\n",
      "    <tu>\n",
      "      <tuv xml:lang=\"en\"><seg>maybe its the wind .</seg></tuv>\n",
      "      <tuv xml:lang=\"fa\"><seg>شايد صداي باد باشه .</seg></tuv>\n",
      "    </tu>\n",
      "    <tu>\n",
      "      <tuv xml:lang=\"en\"><seg>stop please stop .</seg></tuv>\n",
      "      <tuv xml:lang=\"fa\"><seg>دست نگه داريد خواهش ميکنم دست نگه داريد .</seg></tuv>\n",
      "    </tu>\n",
      "    <tu>\n",
      "      <tuv xml:lang=\"en\"><seg>you have a week , evans then well burn the house .</seg></tuv>\n",
      "      <tuv xml:lang=\"fa\"><seg>اوانز تو فقط يک هفته وقت داري وگرنه خونتو خواهيم سوزوند .</seg></tuv>\n",
      "    </tu>\n",
      "    <tu>\n",
      "      <tuv xml:lang=\"en\"><seg>god damn it , william .</seg></tuv>\n",
      "      <tuv xml:lang=\"fa\"><seg>لعنتي . ويليام 8 .</seg></tuv>\n"
     ]
    }
   ]
  },
  {
   "cell_type": "code",
   "source": [
    "!cat en-fa.tmx | grep \"\" -B 1"
   ],
   "metadata": {
    "id": "l1arBAhBYRtt",
    "pycharm": {
     "name": "#%%\n"
    }
   },
   "execution_count": null,
   "outputs": []
  },
  {
   "cell_type": "code",
   "source": [],
   "metadata": {
    "id": "AHsADPUC0Otg",
    "pycharm": {
     "name": "#%%\n"
    }
   },
   "execution_count": null,
   "outputs": []
  }
 ]
}