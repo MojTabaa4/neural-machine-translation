{
 "nbformat": 4,
 "nbformat_minor": 0,
 "metadata": {
  "colab": {
   "name": "persian_NMT.ipynb",
   "provenance": [],
   "collapsed_sections": [],
   "toc_visible": true
  },
  "kernelspec": {
   "name": "python3",
   "display_name": "Python 3"
  },
  "language_info": {
   "name": "python"
  },
  "accelerator": "GPU",
  "gpuClass": "standard"
 },
 "cells": [
  {
   "cell_type": "code",
   "execution_count": 2,
   "metadata": {
    "id": "f6x9jQonHH5A",
    "colab": {
     "base_uri": "https://localhost:8080/"
    },
    "outputId": "38ae525d-8264-4def-ed9a-82cfc894ea96",
    "pycharm": {
     "name": "#%%\n"
    }
   },
   "outputs": [
    {
     "output_type": "stream",
     "name": "stdout",
     "text": [
      "--2022-07-14 08:08:29--  https://opus.nlpl.eu/download.php?f=TEP/v1/moses/en-fa.txt.zip\n",
      "Resolving opus.nlpl.eu (opus.nlpl.eu)... 193.166.25.9\n",
      "Connecting to opus.nlpl.eu (opus.nlpl.eu)|193.166.25.9|:443... connected.\n",
      "HTTP request sent, awaiting response... 302 Found\n",
      "Location: https://object.pouta.csc.fi/OPUS-TEP/v1/moses/en-fa.txt.zip [following]\n",
      "--2022-07-14 08:08:31--  https://object.pouta.csc.fi/OPUS-TEP/v1/moses/en-fa.txt.zip\n",
      "Resolving object.pouta.csc.fi (object.pouta.csc.fi)... 86.50.254.18, 86.50.254.19\n",
      "Connecting to object.pouta.csc.fi (object.pouta.csc.fi)|86.50.254.18|:443... connected.\n",
      "HTTP request sent, awaiting response... 200 OK\n",
      "Length: 16353318 (16M) [application/zip]\n",
      "Saving to: ‘en-fa.txt.zip’\n",
      "\n",
      "en-fa.txt.zip       100%[===================>]  15.60M  5.43MB/s    in 2.9s    \n",
      "\n",
      "2022-07-14 08:08:36 (5.43 MB/s) - ‘en-fa.txt.zip’ saved [16353318/16353318]\n",
      "\n",
      "Archive:  en-fa.txt.zip\n",
      "  inflating: TEP.en-fa.en            \n",
      "  inflating: TEP.en-fa.fa            \n",
      "  inflating: README                  \n"
     ]
    }
   ],
   "source": [
    "# !wget -O en-fa.tmx.gz https://opus.nlpl.eu/download.php?f=TEP/v1/tmx/en-fa.tmx.gz\n",
    "!wget -O en-fa.txt.zip https: // opus.nlpl.eu / download.php?f=TEP / v1 / moses / en-fa.txt.zip\n",
    "# !gzip -dk en-fa.tmx.gz\n",
    "!unzip en-fa.txt.zip"
   ]
  },
  {
   "cell_type": "code",
   "source": [
    "!cat TEP.en-fa.en | grep -a \"?\""
   ],
   "metadata": {
    "id": "dASVTdaWFV4k",
    "pycharm": {
     "name": "#%%\n"
    }
   },
   "execution_count": null,
   "outputs": []
  },
  {
   "cell_type": "code",
   "source": [
    "!pip install \"tensorflow-text==2.8.*\""
   ],
   "metadata": {
    "id": "5pf4kq7E9IcL",
    "pycharm": {
     "name": "#%%\n"
    }
   },
   "execution_count": null,
   "outputs": []
  },
  {
   "cell_type": "code",
   "source": [
    "import pathlib\n",
    "import re\n",
    "import string\n",
    "\n",
    "import numpy as np\n",
    "import tensorflow as tf\n",
    "import tensorflow_text as tf_text\n",
    "from tensorflow import keras"
   ],
   "metadata": {
    "id": "ucMPfnA-otgW",
    "pycharm": {
     "name": "#%%\n"
    }
   },
   "execution_count": 5,
   "outputs": []
  },
  {
   "cell_type": "code",
   "source": [
    "text_file = keras.utils.get_file(\n",
    "    fname=\"fa-eng.zip\",\n",
    "    origin=\"https://opus.nlpl.eu/download.php?f=TEP/v1/moses/en-fa.txt.zip\",\n",
    "    extract=True,\n",
    ")\n",
    "\n",
    "text_fa = pathlib.Path(text_file).parent / \"TEP.en-fa.fa\"\n",
    "text_en = pathlib.Path(text_file).parent / \"TEP.en-fa.en\""
   ],
   "metadata": {
    "colab": {
     "base_uri": "https://localhost:8080/"
    },
    "id": "6Q9WEz_5pcaq",
    "outputId": "67171525-fa4e-425f-9a40-babcb75d8448",
    "pycharm": {
     "name": "#%%\n"
    }
   },
   "execution_count": 6,
   "outputs": [
    {
     "output_type": "stream",
     "name": "stdout",
     "text": [
      "Downloading data from https://opus.nlpl.eu/download.php?f=TEP/v1/moses/en-fa.txt.zip\n",
      "16359424/16353318 [==============================] - 3s 0us/step\n",
      "16367616/16353318 [==============================] - 3s 0us/step\n"
     ]
    }
   ]
  },
  {
   "cell_type": "code",
   "source": [
    "with open(text_en) as f:\n",
    "    lines_en = f.read().split(\"\\n\")[:-1]\n",
    "\n",
    "with open(text_fa) as f:\n",
    "    lines_fa = f.read().split(\"\\n\")[:-1]\n",
    "\n",
    "# text_persian = []\n",
    "\n",
    "# for line in range(len(lines_en)):\n",
    "#   eng = lines_en[line]\n",
    "#   fa = lines_fa[line]\n",
    "#   text_persian.append((eng, fa))\n"
   ],
   "metadata": {
    "id": "Vt1YQnJKrikT",
    "pycharm": {
     "name": "#%%\n"
    }
   },
   "execution_count": 7,
   "outputs": []
  },
  {
   "cell_type": "code",
   "source": [
    "index = 10\n",
    "print(lines_en[index])\n",
    "print(lines_fa[index])\n",
    "\n",
    "assert len(lines_en) == len(lines_fa)\n",
    "len(lines_en)"
   ],
   "metadata": {
    "colab": {
     "base_uri": "https://localhost:8080/"
    },
    "id": "24BuWvG6ulgU",
    "outputId": "355b3eb1-5bf7-495b-fc7a-6170c37ef733",
    "pycharm": {
     "name": "#%%\n"
    }
   },
   "execution_count": 8,
   "outputs": [
    {
     "output_type": "stream",
     "name": "stdout",
     "text": [
      "its the last feed weve got .\n",
      "اين آخرين علوفه اي بود که ما داشتيم .\n"
     ]
    },
    {
     "output_type": "execute_result",
     "data": {
      "text/plain": [
       "612086"
      ]
     },
     "metadata": {},
     "execution_count": 8
    }
   ]
  },
  {
   "cell_type": "code",
   "source": [
    "inp = lines_en\n",
    "targ = lines_fa\n",
    "\n",
    "BUFFER_SIZE = len(inp)\n",
    "BATCH_SIZE = 64\n",
    "\n",
    "dataset = tf.data.Dataset.from_tensor_slices((inp, targ)).shuffle(BUFFER_SIZE)\n",
    "dataset = dataset.batch(BATCH_SIZE)"
   ],
   "metadata": {
    "id": "8XcRIIqYuw13",
    "pycharm": {
     "name": "#%%\n"
    }
   },
   "execution_count": 9,
   "outputs": []
  },
  {
   "cell_type": "code",
   "source": [
    "for example_input_batch, example_target_batch in dataset.take(1):\n",
    "    print(example_input_batch[1].numpy())\n",
    "    print()\n",
    "    print(example_target_batch[1].numpy().decode())\n",
    "    print(example_target_batch[1].numpy())\n",
    "\n",
    "    break"
   ],
   "metadata": {
    "colab": {
     "base_uri": "https://localhost:8080/"
    },
    "id": "0CGQ6haRvVr9",
    "outputId": "cd075291-507f-4ee3-e8e1-933e8dd3d3fe",
    "pycharm": {
     "name": "#%%\n"
    }
   },
   "execution_count": 10,
   "outputs": [
    {
     "output_type": "stream",
     "name": "stdout",
     "text": [
      "b'to the chapter of ethics.'\n",
      "\n",
      "به فصل اخلاقيات\n",
      "b'\\xd8\\xa8\\xd9\\x87 \\xd9\\x81\\xd8\\xb5\\xd9\\x84 \\xd8\\xa7\\xd8\\xae\\xd9\\x84\\xd8\\xa7\\xd9\\x82\\xd9\\x8a\\xd8\\xa7\\xd8\\xaa'\n"
     ]
    }
   ]
  },
  {
   "cell_type": "code",
   "source": [
    "def standardize_en(text):\n",
    "    # Split accecented characters.\n",
    "    text = tf_text.normalize_utf8(text, 'NFKD')\n",
    "    text = tf.strings.lower(text)\n",
    "    # Keep space, a to z, and select punctuation.\n",
    "    text = tf.strings.regex_replace(text, '[^ a-z.?!,¿]', '')\n",
    "    # Add spaces around punctuation.\n",
    "    text = tf.strings.regex_replace(text, '[.?!,¿]', r' \\0 ')\n",
    "    # Strip whitespace.\n",
    "    text = tf.strings.strip(text)\n",
    "\n",
    "    text = tf.strings.join(['[START]', text, '[END]'], separator=' ')\n",
    "\n",
    "    return text\n",
    "\n",
    "\n",
    "def standardize_fa(text):\n",
    "    strip_chars = re.sub('[\\[\\].?!,¿]', '', string.punctuation)\n",
    "\n",
    "    text = tf.strings.regex_replace(text, f\"[{re.escape(strip_chars)}]\", '')\n",
    "\n",
    "    text = tf.strings.regex_replace(text, '[.?!,¿]', r' \\0 ')\n",
    "\n",
    "    text = tf.strings.strip(text)\n",
    "\n",
    "    text = tf.strings.join(['[START]', text, '[END]'], separator=' ')\n",
    "\n",
    "    return text"
   ],
   "metadata": {
    "id": "8U1wELmlvVpi",
    "pycharm": {
     "name": "#%%\n"
    }
   },
   "execution_count": 12,
   "outputs": []
  },
  {
   "cell_type": "code",
   "source": [
    "example_text = tf.constant(\"what is it? the captain has escaped.\")\n",
    "print(example_text.numpy().decode())\n",
    "print(standardize_en(example_text).numpy().decode())"
   ],
   "metadata": {
    "colab": {
     "base_uri": "https://localhost:8080/"
    },
    "id": "ZyluoMARGhgR",
    "outputId": "bdef0f68-57b4-4f7d-f7c0-39850190c3af",
    "pycharm": {
     "name": "#%%\n"
    }
   },
   "execution_count": 13,
   "outputs": [
    {
     "output_type": "stream",
     "name": "stdout",
     "text": [
      "what is it? the captain has escaped.\n",
      "[START] what is it ?  the captain has escaped . [END]\n"
     ]
    }
   ]
  },
  {
   "cell_type": "code",
   "source": [
    "strip_chars = re.sub('[\\[\\].?!,¿]', '', string.punctuation)\n",
    "strip_chars"
   ],
   "metadata": {
    "colab": {
     "base_uri": "https://localhost:8080/",
     "height": 35
    },
    "id": "Y60AKkTrvVnH",
    "outputId": "8246a584-403f-4fb3-e235-c2eb0aaada76",
    "pycharm": {
     "name": "#%%\n"
    }
   },
   "execution_count": 14,
   "outputs": [
    {
     "output_type": "execute_result",
     "data": {
      "text/plain": [
       "'\"#$%&\\'()*+-/:;<=>@\\\\^_`{|}~'"
      ],
      "application/vnd.google.colaboratory.intrinsic+json": {
       "type": "string"
      }
     },
     "metadata": {},
     "execution_count": 14
    }
   ]
  },
  {
   "cell_type": "code",
   "source": [
    "re.escape(strip_chars)"
   ],
   "metadata": {
    "colab": {
     "base_uri": "https://localhost:8080/",
     "height": 35
    },
    "id": "uArqZ6-auwzP",
    "outputId": "5987f866-bc2d-4013-9fd9-5a6c74e1919f",
    "pycharm": {
     "name": "#%%\n"
    }
   },
   "execution_count": 15,
   "outputs": [
    {
     "output_type": "execute_result",
     "data": {
      "text/plain": [
       "'\"\\\\#\\\\$%\\\\&\\'\\\\(\\\\)\\\\*\\\\+\\\\-/:;<=>@\\\\\\\\\\\\^_`\\\\{\\\\|\\\\}\\\\~'"
      ],
      "application/vnd.google.colaboratory.intrinsic+json": {
       "type": "string"
      }
     },
     "metadata": {},
     "execution_count": 15
    }
   ]
  },
  {
   "cell_type": "code",
   "source": [
    "max_vocab_size = 50000\n",
    "\n",
    "en_vectorization = tf.keras.layers.TextVectorization(\n",
    "    standardize=standardize_en,\n",
    "    max_tokens=max_vocab_size\n",
    ")\n",
    "\n",
    "fa_vectorization = tf.keras.layers.TextVectorization(\n",
    "    max_tokens=max_vocab_size,\n",
    "    standardize=standardize_fa\n",
    ")"
   ],
   "metadata": {
    "id": "cvq29UUguwxR",
    "pycharm": {
     "name": "#%%\n"
    }
   },
   "execution_count": 16,
   "outputs": []
  },
  {
   "cell_type": "code",
   "source": [
    "en_vectorization.adapt(inp)\n",
    "en_vectorization.get_vocabulary()[:10]"
   ],
   "metadata": {
    "id": "30v0SbYIuwuw",
    "colab": {
     "base_uri": "https://localhost:8080/"
    },
    "outputId": "4fa3cb67-351a-4023-a085-8f7abb9ebda9",
    "pycharm": {
     "name": "#%%\n"
    }
   },
   "execution_count": 17,
   "outputs": [
    {
     "output_type": "execute_result",
     "data": {
      "text/plain": [
       "['', '[UNK]', '.', '[START]', '[END]', ',', 'you', 'the', 'i', 'to']"
      ]
     },
     "metadata": {},
     "execution_count": 17
    }
   ]
  },
  {
   "cell_type": "code",
   "source": [
    "fa_vectorization.adapt(targ)\n",
    "fa_vectorization.get_vocabulary()[:10]"
   ],
   "metadata": {
    "id": "eYtO4JBmuwr2",
    "colab": {
     "base_uri": "https://localhost:8080/"
    },
    "outputId": "d9892bd3-ad1a-4058-f644-15e5ee8c1b4a",
    "pycharm": {
     "name": "#%%\n"
    }
   },
   "execution_count": 18,
   "outputs": [
    {
     "output_type": "execute_result",
     "data": {
      "text/plain": [
       "['', '[UNK]', '[START]', '[END]', '.', '،', 'من', 'به', 'را', 'تو']"
      ]
     },
     "metadata": {},
     "execution_count": 18
    }
   ]
  },
  {
   "cell_type": "code",
   "source": [
    "en_example_tokens = en_vectorization(example_input_batch)\n",
    "en_example_tokens[:3]"
   ],
   "metadata": {
    "colab": {
     "base_uri": "https://localhost:8080/"
    },
    "id": "GJs4rPntND5C",
    "outputId": "dc6f2e32-cc8f-47dd-e3d0-da2c6b4897cb",
    "pycharm": {
     "name": "#%%\n"
    }
   },
   "execution_count": 29,
   "outputs": [
    {
     "output_type": "execute_result",
     "data": {
      "text/plain": [
       "<tf.Tensor: shape=(3, 21), dtype=int64, numpy=\n",
       "array([[    3,     1,     2,     4,     0,     0,     0,     0,     0,\n",
       "            0,     0,     0,     0,     0,     0,     0,     0,     0,\n",
       "            0,     0,     0],\n",
       "       [    3,     9,     7,  4707,    13, 10519,     2,     4,     0,\n",
       "            0,     0,     0,     0,     0,     0,     0,     0,     0,\n",
       "            0,     0,     0],\n",
       "       [    3,     6,    88,  3861,   119,    17,     7,   910,    13,\n",
       "           10,  4158,    11,   283,     9,   188,    60,    12,     2,\n",
       "            4,     0,     0]])>"
      ]
     },
     "metadata": {},
     "execution_count": 29
    }
   ]
  },
  {
   "cell_type": "code",
   "source": [
    "fa_example_tokens = fa_vectorization(example_target_batch)\n",
    "fa_example_tokens[:3]"
   ],
   "metadata": {
    "colab": {
     "base_uri": "https://localhost:8080/"
    },
    "id": "niSH8-Ra4EPB",
    "outputId": "3dc7af36-c705-4583-cf48-8ac5a8ad1865",
    "pycharm": {
     "name": "#%%\n"
    }
   },
   "execution_count": 30,
   "outputs": [
    {
     "output_type": "execute_result",
     "data": {
      "text/plain": [
       "<tf.Tensor: shape=(3, 19), dtype=int64, numpy=\n",
       "array([[    2,     1,     4,     3,     0,     0,     0,     0,     0,\n",
       "            0,     0,     0,     0,     0,     0,     0,     0,     0,\n",
       "            0],\n",
       "       [    2,     7,  2967, 19685,     3,     0,     0,     0,     0,\n",
       "            0,     0,     0,     0,     0,     0,     0,     0,     0,\n",
       "            0],\n",
       "       [    2,     9,   416,  1166,  6117,  2488,   750,    10,    16,\n",
       "           13,   103,   113,   750,     4,     3,     0,     0,     0,\n",
       "            0]])>"
      ]
     },
     "metadata": {},
     "execution_count": 30
    }
   ]
  },
  {
   "cell_type": "code",
   "source": [
    "len(fa_vectorization.get_vocabulary())"
   ],
   "metadata": {
    "colab": {
     "base_uri": "https://localhost:8080/"
    },
    "id": "bt1y_XkzND2r",
    "outputId": "ae70473b-ce5f-494d-a0b5-d820625f89c3",
    "pycharm": {
     "name": "#%%\n"
    }
   },
   "execution_count": 20,
   "outputs": [
    {
     "output_type": "execute_result",
     "data": {
      "text/plain": [
       "50000"
      ]
     },
     "metadata": {},
     "execution_count": 20
    }
   ]
  },
  {
   "cell_type": "code",
   "source": [
    "input_vocab = np.array(en_vectorization.get_vocabulary())\n",
    "tokens = input_vocab[en_example_tokens[2].numpy()]\n",
    "' '.join(tokens)"
   ],
   "metadata": {
    "colab": {
     "base_uri": "https://localhost:8080/",
     "height": 35
    },
    "id": "m46n9HeVNDyK",
    "outputId": "a5a83b2a-6ffb-487b-eb1d-365c4b020974",
    "pycharm": {
     "name": "#%%\n"
    }
   },
   "execution_count": 32,
   "outputs": [
    {
     "output_type": "execute_result",
     "data": {
      "text/plain": [
       "'[START] you cant kneel down in the middle of a highway and live to talk about it . [END]  '"
      ],
      "application/vnd.google.colaboratory.intrinsic+json": {
       "type": "string"
      }
     },
     "metadata": {},
     "execution_count": 32
    }
   ]
  },
  {
   "cell_type": "code",
   "source": [
    "input_vocab = np.array(fa_vectorization.get_vocabulary())\n",
    "tokens = input_vocab[fa_example_tokens[2].numpy()]\n",
    "print(tokens)\n",
    "' '.join(tokens)"
   ],
   "metadata": {
    "id": "ti9anutoNDtu",
    "colab": {
     "base_uri": "https://localhost:8080/",
     "height": 70
    },
    "outputId": "2b9b0fc1-4108-4916-8db8-b598e1de0807",
    "pycharm": {
     "name": "#%%\n"
    }
   },
   "execution_count": 35,
   "outputs": [
    {
     "output_type": "stream",
     "name": "stdout",
     "text": [
      "['[START]' 'تو' 'نميتوني' 'وسط' 'بزرگراه' 'زانو' 'بزني' 'و' 'در' 'اين'\n",
      " 'مورد' 'حرف' 'بزني' '.' '[END]' '' '' '' '']\n"
     ]
    },
    {
     "output_type": "execute_result",
     "data": {
      "text/plain": [
       "'[START] تو نميتوني وسط بزرگراه زانو بزني و در اين مورد حرف بزني . [END]    '"
      ],
      "application/vnd.google.colaboratory.intrinsic+json": {
       "type": "string"
      }
     },
     "metadata": {},
     "execution_count": 35
    }
   ]
  },
  {
   "cell_type": "code",
   "source": [],
   "metadata": {
    "id": "21VkqDhdNDmY",
    "pycharm": {
     "name": "#%%\n"
    }
   },
   "execution_count": null,
   "outputs": []
  },
  {
   "cell_type": "code",
   "source": [],
   "metadata": {
    "id": "9BWsZ5az5fuY",
    "pycharm": {
     "name": "#%%\n"
    }
   },
   "execution_count": null,
   "outputs": []
  },
  {
   "cell_type": "code",
   "source": [],
   "metadata": {
    "id": "Rl_EjH5i5fsK",
    "pycharm": {
     "name": "#%%\n"
    }
   },
   "execution_count": null,
   "outputs": []
  },
  {
   "cell_type": "code",
   "source": [],
   "metadata": {
    "id": "_oqyKm9A5fpe",
    "pycharm": {
     "name": "#%%\n"
    }
   },
   "execution_count": null,
   "outputs": []
  },
  {
   "cell_type": "code",
   "source": [],
   "metadata": {
    "id": "BHtZHFg25fm7",
    "pycharm": {
     "name": "#%%\n"
    }
   },
   "execution_count": null,
   "outputs": []
  },
  {
   "cell_type": "code",
   "source": [],
   "metadata": {
    "id": "o0BKhK7f5fkj",
    "pycharm": {
     "name": "#%%\n"
    }
   },
   "execution_count": null,
   "outputs": []
  },
  {
   "cell_type": "code",
   "source": [],
   "metadata": {
    "id": "PnacUA1b5fh8",
    "pycharm": {
     "name": "#%%\n"
    }
   },
   "execution_count": null,
   "outputs": []
  },
  {
   "cell_type": "code",
   "source": [],
   "metadata": {
    "id": "mtw8-nRe5fer",
    "pycharm": {
     "name": "#%%\n"
    }
   },
   "execution_count": null,
   "outputs": []
  },
  {
   "cell_type": "code",
   "source": [],
   "metadata": {
    "id": "5acLXT615fby",
    "pycharm": {
     "name": "#%%\n"
    }
   },
   "execution_count": null,
   "outputs": []
  },
  {
   "cell_type": "code",
   "source": [
    "!head -n20 TEP.en-fa.en"
   ],
   "metadata": {
    "id": "BjJnRmiSPLjP",
    "colab": {
     "base_uri": "https://localhost:8080/"
    },
    "outputId": "6f1a850d-c582-4073-c81e-1ab6c91d69d8",
    "pycharm": {
     "name": "#%%\n"
    }
   },
   "execution_count": null,
   "outputs": [
    {
     "output_type": "stream",
     "name": "stdout",
     "text": [
      "raspy breathing .\n",
      "dad .\n",
      "maybe its the wind .\n",
      "no .\n",
      "stop please stop .\n",
      "you have a week , evans then well burn the house .\n",
      "william .\n",
      "god damn it , william .\n",
      "god damn it put that down .\n",
      "let go .\n",
      "its the last feed weve got .\n",
      "ill take care of this .\n",
      "no , you wont .\n",
      "herds over the ridge by now . you go get cleaned up .\n",
      "you lied to me , dan .\n",
      "you told me we made payments to hollander . we did .\n",
      "so , how do you think we bought feed , alice . three months water , the medicine for mark .\n",
      "i had a choice between our family and paying them down .\n",
      "were supposed to make decisions together .\n",
      "would you have made anything different .\n"
     ]
    }
   ]
  },
  {
   "cell_type": "code",
   "source": [
    "!head -n20 TEP.en-fa.fa"
   ],
   "metadata": {
    "colab": {
     "base_uri": "https://localhost:8080/"
    },
    "id": "kuQWX886Rvn-",
    "outputId": "3e0f4c6f-672d-46b8-a082-de80bbe5db46",
    "pycharm": {
     "name": "#%%\n"
    }
   },
   "execution_count": null,
   "outputs": [
    {
     "output_type": "stream",
     "name": "stdout",
     "text": [
      "صداي خر خر .\n",
      "پدر .\n",
      "شايد صداي باد باشه .\n",
      "نه .\n",
      "دست نگه داريد خواهش ميکنم دست نگه داريد .\n",
      "اوانز تو فقط يک هفته وقت داري وگرنه خونتو خواهيم سوزوند .\n",
      "ويليام .\n",
      "لعنتي . ويليام 8 .\n",
      "لعنت به تو . اونو بذار زمين .\n",
      "بذار برم .\n",
      "اين آخرين علوفه اي بود که ما داشتيم .\n",
      "من خودم اين کارو انجام ميدهم .\n",
      "نه تو نميکني .\n",
      "گله را آوردم بيرون الان . تو برو اونجا را تميز کن .\n",
      "تو به من دروغ گفتي دن .\n",
      "تو به من گفتي قرضمونو به هلندر پرداخت کرديم . ما پرداخت کرديم .\n",
      "خب پس تو فکر ميکني ما چطوري علوفه خريديم سه ماه آب خرج دارو مارک .\n",
      "من فقط يک انتخاب بين خانوادم و پرداخت قرض اونا داشتم .\n",
      "ما قرار بود تصميماتو با هم بگيريم .\n",
      "مگه تو تصميمه ديگه اي ميگرفتي .\n"
     ]
    }
   ]
  },
  {
   "cell_type": "code",
   "source": [
    "!cat TEP.en-fa.fa | wc -l\n",
    "!cat TEP.en-fa.en | wc -l"
   ],
   "metadata": {
    "colab": {
     "base_uri": "https://localhost:8080/"
    },
    "id": "351SzhNxR2us",
    "outputId": "74c89d01-ec45-460c-cfd8-5bb1584f1680",
    "pycharm": {
     "name": "#%%\n"
    }
   },
   "execution_count": null,
   "outputs": [
    {
     "output_type": "stream",
     "name": "stdout",
     "text": [
      "612086\n",
      "612086\n"
     ]
    }
   ]
  },
  {
   "cell_type": "code",
   "source": [
    "!head -n30 en-fa.tmx"
   ],
   "metadata": {
    "colab": {
     "base_uri": "https://localhost:8080/"
    },
    "id": "iU2Xo7foTOl0",
    "outputId": "10adecb1-9c30-4efd-abdf-e3ece5f40532",
    "pycharm": {
     "name": "#%%\n"
    }
   },
   "execution_count": null,
   "outputs": [
    {
     "output_type": "stream",
     "name": "stdout",
     "text": [
      "<?xml version=\"1.0\" encoding=\"UTF-8\" ?>\n",
      "<tmx version=\"1.4\">\n",
      "<header creationdate=\"Sun Mar  4 00:48:54 2018\"\n",
      "          srclang=\"en\"\n",
      "          adminlang=\"en\"\n",
      "          o-tmf=\"unknown\"\n",
      "          segtype=\"sentence\"\n",
      "          creationtool=\"Uplug\"\n",
      "          creationtoolversion=\"unknown\"\n",
      "          datatype=\"PlainText\" />\n",
      "  <body>\n",
      "    <tu>\n",
      "      <tuv xml:lang=\"en\"><seg>raspy breathing .</seg></tuv>\n",
      "      <tuv xml:lang=\"fa\"><seg>صداي خر خر .</seg></tuv>\n",
      "    </tu>\n",
      "    <tu>\n",
      "      <tuv xml:lang=\"en\"><seg>maybe its the wind .</seg></tuv>\n",
      "      <tuv xml:lang=\"fa\"><seg>شايد صداي باد باشه .</seg></tuv>\n",
      "    </tu>\n",
      "    <tu>\n",
      "      <tuv xml:lang=\"en\"><seg>stop please stop .</seg></tuv>\n",
      "      <tuv xml:lang=\"fa\"><seg>دست نگه داريد خواهش ميکنم دست نگه داريد .</seg></tuv>\n",
      "    </tu>\n",
      "    <tu>\n",
      "      <tuv xml:lang=\"en\"><seg>you have a week , evans then well burn the house .</seg></tuv>\n",
      "      <tuv xml:lang=\"fa\"><seg>اوانز تو فقط يک هفته وقت داري وگرنه خونتو خواهيم سوزوند .</seg></tuv>\n",
      "    </tu>\n",
      "    <tu>\n",
      "      <tuv xml:lang=\"en\"><seg>god damn it , william .</seg></tuv>\n",
      "      <tuv xml:lang=\"fa\"><seg>لعنتي . ويليام 8 .</seg></tuv>\n"
     ]
    }
   ]
  },
  {
   "cell_type": "code",
   "source": [
    "!cat en-fa.tmx | grep \"\" -B 1"
   ],
   "metadata": {
    "id": "l1arBAhBYRtt",
    "pycharm": {
     "name": "#%%\n"
    }
   },
   "execution_count": null,
   "outputs": []
  },
  {
   "cell_type": "code",
   "source": [],
   "metadata": {
    "id": "AHsADPUC0Otg",
    "pycharm": {
     "name": "#%%\n"
    }
   },
   "execution_count": null,
   "outputs": []
  }
 ]
}